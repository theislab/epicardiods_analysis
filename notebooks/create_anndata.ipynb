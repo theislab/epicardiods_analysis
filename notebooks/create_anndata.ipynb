{
 "cells": [
  {
   "cell_type": "code",
   "execution_count": 2,
   "id": "82f42ed1-a59d-496f-a87b-075070222cbe",
   "metadata": {},
   "outputs": [],
   "source": [
    "import anndata as ad\n",
    "import scipy.io\n",
    "import pandas as pd\n",
    "import os\n",
    "import anndata as ad"
   ]
  },
  {
   "cell_type": "code",
   "execution_count": 15,
   "id": "7f843c6d-d276-42c1-a471-6e6cef1f8a54",
   "metadata": {},
   "outputs": [],
   "source": [
    "data_path = os.path.join(\"/lustre/groups/ml01/workspace/laura.martens/moretti_colab/archr_final\", \"Epicardiods\", \"Anndata\")"
   ]
  },
  {
   "cell_type": "code",
   "execution_count": 7,
   "id": "2b68d55c-f242-4440-af11-0a04e0b3a412",
   "metadata": {},
   "outputs": [
    {
     "data": {
      "text/plain": [
       "'/storage/groups/ml01/workspace/laura.martens/moretti_colab/archr_new/Epicardiods/Anndata'"
      ]
     },
     "execution_count": 7,
     "metadata": {},
     "output_type": "execute_result"
    }
   ],
   "source": [
    "data_path"
   ]
  },
  {
   "cell_type": "code",
   "execution_count": 8,
   "id": "c2e3fa38-1110-4d98-b12a-840722e875d0",
   "metadata": {},
   "outputs": [],
   "source": [
    "with open(os.path.join(data_path, 'matrix.mtx'), 'rb') as mm:\n",
    "    x = scipy.io.mmread(mm).T.tocsr()"
   ]
  },
  {
   "cell_type": "code",
   "execution_count": 9,
   "id": "6dc4e1ad-6c3c-4600-87e7-9cd9a51bb89c",
   "metadata": {},
   "outputs": [
    {
     "data": {
      "text/plain": [
       "<30294x378157 sparse matrix of type '<class 'numpy.int64'>'\n",
       "\twith 278766147 stored elements in Compressed Sparse Row format>"
      ]
     },
     "execution_count": 9,
     "metadata": {},
     "output_type": "execute_result"
    }
   ],
   "source": [
    "x"
   ]
  },
  {
   "cell_type": "code",
   "execution_count": 11,
   "id": "66681f02-2b99-42b0-991b-630479588fa9",
   "metadata": {},
   "outputs": [],
   "source": [
    "obs = pd.read_csv(os.path.join(data_path, 'obs.csv'), sep=',')"
   ]
  },
  {
   "cell_type": "code",
   "execution_count": 13,
   "id": "73554de9-d295-4930-b098-f4c6fcd48bbf",
   "metadata": {},
   "outputs": [],
   "source": [
    "var = pd.read_csv(os.path.join(data_path, 'var.csv'), sep=',')"
   ]
  },
  {
   "cell_type": "code",
   "execution_count": 15,
   "id": "39223241-2090-4882-a70f-e64c4ca36fc1",
   "metadata": {},
   "outputs": [
    {
     "data": {
      "text/html": [
       "<div>\n",
       "<style scoped>\n",
       "    .dataframe tbody tr th:only-of-type {\n",
       "        vertical-align: middle;\n",
       "    }\n",
       "\n",
       "    .dataframe tbody tr th {\n",
       "        vertical-align: top;\n",
       "    }\n",
       "\n",
       "    .dataframe thead th {\n",
       "        text-align: right;\n",
       "    }\n",
       "</style>\n",
       "<table border=\"1\" class=\"dataframe\">\n",
       "  <thead>\n",
       "    <tr style=\"text-align: right;\">\n",
       "      <th></th>\n",
       "      <th>seqnames</th>\n",
       "      <th>start</th>\n",
       "      <th>end</th>\n",
       "      <th>width</th>\n",
       "      <th>strand</th>\n",
       "      <th>score</th>\n",
       "      <th>replicateScoreQuantile</th>\n",
       "      <th>groupScoreQuantile</th>\n",
       "      <th>Reproducibility</th>\n",
       "      <th>GroupReplicate</th>\n",
       "      <th>distToGeneStart</th>\n",
       "      <th>nearestGene</th>\n",
       "      <th>peakType</th>\n",
       "      <th>distToTSS</th>\n",
       "      <th>nearestTSS</th>\n",
       "      <th>GC</th>\n",
       "      <th>idx</th>\n",
       "      <th>N</th>\n",
       "    </tr>\n",
       "  </thead>\n",
       "  <tbody>\n",
       "    <tr>\n",
       "      <th>1</th>\n",
       "      <td>chr1</td>\n",
       "      <td>758176</td>\n",
       "      <td>758676</td>\n",
       "      <td>501</td>\n",
       "      <td>*</td>\n",
       "      <td>3.06380</td>\n",
       "      <td>0.249</td>\n",
       "      <td>0.055</td>\n",
       "      <td>2</td>\n",
       "      <td>C9._.MUC26651_1234</td>\n",
       "      <td>4475</td>\n",
       "      <td>LINC00115</td>\n",
       "      <td>Distal</td>\n",
       "      <td>4475</td>\n",
       "      <td>uc001aau.3</td>\n",
       "      <td>0.5569</td>\n",
       "      <td>1</td>\n",
       "      <td>0</td>\n",
       "    </tr>\n",
       "    <tr>\n",
       "      <th>2</th>\n",
       "      <td>chr1</td>\n",
       "      <td>761967</td>\n",
       "      <td>762467</td>\n",
       "      <td>501</td>\n",
       "      <td>*</td>\n",
       "      <td>6.66919</td>\n",
       "      <td>0.686</td>\n",
       "      <td>0.369</td>\n",
       "      <td>2</td>\n",
       "      <td>C1._.MUC26654_1234</td>\n",
       "      <td>684</td>\n",
       "      <td>LINC00115</td>\n",
       "      <td>Promoter</td>\n",
       "      <td>684</td>\n",
       "      <td>uc001aau.3</td>\n",
       "      <td>0.5649</td>\n",
       "      <td>2</td>\n",
       "      <td>0</td>\n",
       "    </tr>\n",
       "    <tr>\n",
       "      <th>3</th>\n",
       "      <td>chr1</td>\n",
       "      <td>762680</td>\n",
       "      <td>763180</td>\n",
       "      <td>501</td>\n",
       "      <td>*</td>\n",
       "      <td>260.96500</td>\n",
       "      <td>0.967</td>\n",
       "      <td>0.946</td>\n",
       "      <td>5</td>\n",
       "      <td>C5._.MUC26651_1234</td>\n",
       "      <td>27</td>\n",
       "      <td>LINC00115</td>\n",
       "      <td>Promoter</td>\n",
       "      <td>27</td>\n",
       "      <td>uc001aau.3</td>\n",
       "      <td>0.6886</td>\n",
       "      <td>3</td>\n",
       "      <td>0</td>\n",
       "    </tr>\n",
       "    <tr>\n",
       "      <th>4</th>\n",
       "      <td>chr1</td>\n",
       "      <td>766597</td>\n",
       "      <td>767097</td>\n",
       "      <td>501</td>\n",
       "      <td>*</td>\n",
       "      <td>133.51800</td>\n",
       "      <td>0.901</td>\n",
       "      <td>0.849</td>\n",
       "      <td>2</td>\n",
       "      <td>C19._.MUC26652_1234</td>\n",
       "      <td>3875</td>\n",
       "      <td>LINC01128</td>\n",
       "      <td>Intronic</td>\n",
       "      <td>3668</td>\n",
       "      <td>uc021oeh.1</td>\n",
       "      <td>0.4092</td>\n",
       "      <td>4</td>\n",
       "      <td>0</td>\n",
       "    </tr>\n",
       "    <tr>\n",
       "      <th>5</th>\n",
       "      <td>chr1</td>\n",
       "      <td>767434</td>\n",
       "      <td>767934</td>\n",
       "      <td>501</td>\n",
       "      <td>*</td>\n",
       "      <td>20.35000</td>\n",
       "      <td>0.817</td>\n",
       "      <td>0.669</td>\n",
       "      <td>2</td>\n",
       "      <td>C18._.MUC26652_1234</td>\n",
       "      <td>4712</td>\n",
       "      <td>LINC01128</td>\n",
       "      <td>Intronic</td>\n",
       "      <td>4505</td>\n",
       "      <td>uc021oeh.1</td>\n",
       "      <td>0.5509</td>\n",
       "      <td>5</td>\n",
       "      <td>0</td>\n",
       "    </tr>\n",
       "    <tr>\n",
       "      <th>...</th>\n",
       "      <td>...</td>\n",
       "      <td>...</td>\n",
       "      <td>...</td>\n",
       "      <td>...</td>\n",
       "      <td>...</td>\n",
       "      <td>...</td>\n",
       "      <td>...</td>\n",
       "      <td>...</td>\n",
       "      <td>...</td>\n",
       "      <td>...</td>\n",
       "      <td>...</td>\n",
       "      <td>...</td>\n",
       "      <td>...</td>\n",
       "      <td>...</td>\n",
       "      <td>...</td>\n",
       "      <td>...</td>\n",
       "      <td>...</td>\n",
       "      <td>...</td>\n",
       "    </tr>\n",
       "    <tr>\n",
       "      <th>378153</th>\n",
       "      <td>chrX</td>\n",
       "      <td>154995895</td>\n",
       "      <td>154996395</td>\n",
       "      <td>501</td>\n",
       "      <td>*</td>\n",
       "      <td>12.20470</td>\n",
       "      <td>0.474</td>\n",
       "      <td>0.232</td>\n",
       "      <td>2</td>\n",
       "      <td>C19._.MUC26652_1234</td>\n",
       "      <td>153522</td>\n",
       "      <td>TMLHE</td>\n",
       "      <td>Distal</td>\n",
       "      <td>1305</td>\n",
       "      <td>uc004cin.3</td>\n",
       "      <td>0.3812</td>\n",
       "      <td>9543</td>\n",
       "      <td>0</td>\n",
       "    </tr>\n",
       "    <tr>\n",
       "      <th>378154</th>\n",
       "      <td>chrX</td>\n",
       "      <td>154997000</td>\n",
       "      <td>154997500</td>\n",
       "      <td>501</td>\n",
       "      <td>*</td>\n",
       "      <td>91.36150</td>\n",
       "      <td>0.938</td>\n",
       "      <td>0.890</td>\n",
       "      <td>2</td>\n",
       "      <td>C18._.MUC26651_1234</td>\n",
       "      <td>154627</td>\n",
       "      <td>TMLHE</td>\n",
       "      <td>Distal</td>\n",
       "      <td>200</td>\n",
       "      <td>uc004cin.3</td>\n",
       "      <td>0.5409</td>\n",
       "      <td>9544</td>\n",
       "      <td>0</td>\n",
       "    </tr>\n",
       "    <tr>\n",
       "      <th>378155</th>\n",
       "      <td>chrX</td>\n",
       "      <td>154997632</td>\n",
       "      <td>154998132</td>\n",
       "      <td>501</td>\n",
       "      <td>*</td>\n",
       "      <td>7.70711</td>\n",
       "      <td>0.450</td>\n",
       "      <td>0.155</td>\n",
       "      <td>2</td>\n",
       "      <td>C18._.MUC26651_1234</td>\n",
       "      <td>155259</td>\n",
       "      <td>TMLHE</td>\n",
       "      <td>Distal</td>\n",
       "      <td>430</td>\n",
       "      <td>uc004cin.3</td>\n",
       "      <td>0.4192</td>\n",
       "      <td>9545</td>\n",
       "      <td>0</td>\n",
       "    </tr>\n",
       "    <tr>\n",
       "      <th>378156</th>\n",
       "      <td>chrX</td>\n",
       "      <td>154999234</td>\n",
       "      <td>154999734</td>\n",
       "      <td>501</td>\n",
       "      <td>*</td>\n",
       "      <td>15.55320</td>\n",
       "      <td>0.538</td>\n",
       "      <td>0.308</td>\n",
       "      <td>2</td>\n",
       "      <td>C19._.MUC26652_1234</td>\n",
       "      <td>156861</td>\n",
       "      <td>TMLHE</td>\n",
       "      <td>Distal</td>\n",
       "      <td>2032</td>\n",
       "      <td>uc004cin.3</td>\n",
       "      <td>0.3772</td>\n",
       "      <td>9546</td>\n",
       "      <td>0</td>\n",
       "    </tr>\n",
       "    <tr>\n",
       "      <th>378157</th>\n",
       "      <td>chrX</td>\n",
       "      <td>155009408</td>\n",
       "      <td>155009908</td>\n",
       "      <td>501</td>\n",
       "      <td>*</td>\n",
       "      <td>24.02670</td>\n",
       "      <td>0.639</td>\n",
       "      <td>0.447</td>\n",
       "      <td>2</td>\n",
       "      <td>C19._.MUC26652_1234</td>\n",
       "      <td>167035</td>\n",
       "      <td>TMLHE</td>\n",
       "      <td>Distal</td>\n",
       "      <td>6123</td>\n",
       "      <td>uc004cin.3</td>\n",
       "      <td>0.3713</td>\n",
       "      <td>9547</td>\n",
       "      <td>0</td>\n",
       "    </tr>\n",
       "  </tbody>\n",
       "</table>\n",
       "<p>378157 rows × 18 columns</p>\n",
       "</div>"
      ],
      "text/plain": [
       "       seqnames      start        end  width strand      score  \\\n",
       "1          chr1     758176     758676    501      *    3.06380   \n",
       "2          chr1     761967     762467    501      *    6.66919   \n",
       "3          chr1     762680     763180    501      *  260.96500   \n",
       "4          chr1     766597     767097    501      *  133.51800   \n",
       "5          chr1     767434     767934    501      *   20.35000   \n",
       "...         ...        ...        ...    ...    ...        ...   \n",
       "378153     chrX  154995895  154996395    501      *   12.20470   \n",
       "378154     chrX  154997000  154997500    501      *   91.36150   \n",
       "378155     chrX  154997632  154998132    501      *    7.70711   \n",
       "378156     chrX  154999234  154999734    501      *   15.55320   \n",
       "378157     chrX  155009408  155009908    501      *   24.02670   \n",
       "\n",
       "        replicateScoreQuantile  groupScoreQuantile  Reproducibility  \\\n",
       "1                        0.249               0.055                2   \n",
       "2                        0.686               0.369                2   \n",
       "3                        0.967               0.946                5   \n",
       "4                        0.901               0.849                2   \n",
       "5                        0.817               0.669                2   \n",
       "...                        ...                 ...              ...   \n",
       "378153                   0.474               0.232                2   \n",
       "378154                   0.938               0.890                2   \n",
       "378155                   0.450               0.155                2   \n",
       "378156                   0.538               0.308                2   \n",
       "378157                   0.639               0.447                2   \n",
       "\n",
       "             GroupReplicate  distToGeneStart nearestGene  peakType  distToTSS  \\\n",
       "1        C9._.MUC26651_1234             4475   LINC00115    Distal       4475   \n",
       "2        C1._.MUC26654_1234              684   LINC00115  Promoter        684   \n",
       "3        C5._.MUC26651_1234               27   LINC00115  Promoter         27   \n",
       "4       C19._.MUC26652_1234             3875   LINC01128  Intronic       3668   \n",
       "5       C18._.MUC26652_1234             4712   LINC01128  Intronic       4505   \n",
       "...                     ...              ...         ...       ...        ...   \n",
       "378153  C19._.MUC26652_1234           153522       TMLHE    Distal       1305   \n",
       "378154  C18._.MUC26651_1234           154627       TMLHE    Distal        200   \n",
       "378155  C18._.MUC26651_1234           155259       TMLHE    Distal        430   \n",
       "378156  C19._.MUC26652_1234           156861       TMLHE    Distal       2032   \n",
       "378157  C19._.MUC26652_1234           167035       TMLHE    Distal       6123   \n",
       "\n",
       "        nearestTSS      GC   idx  N  \n",
       "1       uc001aau.3  0.5569     1  0  \n",
       "2       uc001aau.3  0.5649     2  0  \n",
       "3       uc001aau.3  0.6886     3  0  \n",
       "4       uc021oeh.1  0.4092     4  0  \n",
       "5       uc021oeh.1  0.5509     5  0  \n",
       "...            ...     ...   ... ..  \n",
       "378153  uc004cin.3  0.3812  9543  0  \n",
       "378154  uc004cin.3  0.5409  9544  0  \n",
       "378155  uc004cin.3  0.4192  9545  0  \n",
       "378156  uc004cin.3  0.3772  9546  0  \n",
       "378157  uc004cin.3  0.3713  9547  0  \n",
       "\n",
       "[378157 rows x 18 columns]"
      ]
     },
     "execution_count": 15,
     "metadata": {},
     "output_type": "execute_result"
    }
   ],
   "source": [
    "var"
   ]
  },
  {
   "cell_type": "code",
   "execution_count": 19,
   "id": "bcee69e5-0a0a-4625-9ff9-22452bd7fb69",
   "metadata": {},
   "outputs": [],
   "source": [
    "var.index = var.seqnames + \":\" + var.start.astype(str) + \"-\" + var.end.astype(str)"
   ]
  },
  {
   "cell_type": "code",
   "execution_count": 22,
   "id": "2ed31d9e-ae3a-43e5-94a0-0ee2cc9e836e",
   "metadata": {},
   "outputs": [
    {
     "name": "stderr",
     "output_type": "stream",
     "text": [
      "/tmp/ipykernel_6232/1750927739.py:1: FutureWarning: X.dtype being converted to np.float32 from int64. In the next version of anndata (0.9) conversion will not be automatic. Pass dtype explicitly to avoid this warning. Pass `AnnData(X, dtype=X.dtype, ...)` to get the future behavour.\n",
      "  adata = ad.AnnData(X=x, obs=obs, var=var)\n"
     ]
    }
   ],
   "source": [
    "adata = ad.AnnData(X=x, obs=obs, var=var)\n",
    "adata.var_names_make_unique()"
   ]
  },
  {
   "cell_type": "code",
   "execution_count": 26,
   "id": "49afffd5-d920-489e-b3b0-2c978c223e62",
   "metadata": {},
   "outputs": [],
   "source": [
    "adata.write(os.path.join(data_path, 'adata.h5ad'))"
   ]
  },
  {
   "cell_type": "code",
   "execution_count": 27,
   "id": "8a681225-c49c-4bbb-b70f-e521890d15c9",
   "metadata": {},
   "outputs": [],
   "source": [
    "import scanpy as sc"
   ]
  },
  {
   "cell_type": "code",
   "execution_count": 28,
   "id": "0521e3ff-e5f3-4041-b8b2-6c9e57378450",
   "metadata": {},
   "outputs": [],
   "source": [
    "sc.pp.filter_genes(adata, min_cells = int(adata.shape[0]*0.01))"
   ]
  },
  {
   "cell_type": "code",
   "execution_count": 30,
   "id": "eb391c00-bd8e-4742-8eaa-7e4dfa98c163",
   "metadata": {},
   "outputs": [],
   "source": [
    "adata.write(os.path.join(data_path, 'adata_filtered.h5ad'))"
   ]
  },
  {
   "cell_type": "markdown",
   "id": "19a54478-052c-43a9-ad42-5d8f8e5936c4",
   "metadata": {},
   "source": [
    "# Load RNA seq data"
   ]
  },
  {
   "cell_type": "code",
   "execution_count": 17,
   "id": "e8e81612-70ef-452f-b2c1-8cab2fe8fe0d",
   "metadata": {},
   "outputs": [],
   "source": [
    "data_path = os.path.join(\"/lustre/groups/ml01/workspace/laura.martens/moretti_colab/transfer_data\")"
   ]
  },
  {
   "cell_type": "code",
   "execution_count": 4,
   "id": "cc8d0610-3505-4e01-883e-a4abc75411a6",
   "metadata": {},
   "outputs": [],
   "source": [
    "counts = pd.read_csv(os.path.join(data_path, \"counts.csv\"))"
   ]
  },
  {
   "cell_type": "code",
   "execution_count": 5,
   "id": "9ce1796e-e064-46fd-b0a8-e7688bd7a607",
   "metadata": {},
   "outputs": [],
   "source": [
    "obs = pd.DataFrame(counts['clusters'], index = counts.index)"
   ]
  },
  {
   "cell_type": "code",
   "execution_count": 6,
   "id": "c11d9137-ffde-4d9a-935d-1cca0d805c09",
   "metadata": {},
   "outputs": [],
   "source": [
    "counts = counts.drop('clusters', axis =1)"
   ]
  },
  {
   "cell_type": "code",
   "execution_count": 7,
   "id": "b30d095f-d79d-4a7f-a213-e30fb3881aff",
   "metadata": {},
   "outputs": [],
   "source": [
    "var = pd.DataFrame(counts.columns.values, index=counts.columns.values, columns=[\"gene\"])"
   ]
  },
  {
   "cell_type": "code",
   "execution_count": 8,
   "id": "164b9a1f-162a-4fe2-896a-b885d2afa799",
   "metadata": {},
   "outputs": [],
   "source": [
    "adata = ad.AnnData(counts, obs=obs, var=var)"
   ]
  },
  {
   "cell_type": "code",
   "execution_count": 9,
   "id": "77bd4fbd-f0b0-4cd2-9b3c-9ee2cbacecee",
   "metadata": {},
   "outputs": [
    {
     "data": {
      "text/plain": [
       "AnnData object with n_obs × n_vars = 35499 × 24353\n",
       "    obs: 'clusters'\n",
       "    var: 'gene'"
      ]
     },
     "execution_count": 9,
     "metadata": {},
     "output_type": "execute_result"
    }
   ],
   "source": [
    "adata"
   ]
  },
  {
   "cell_type": "code",
   "execution_count": 10,
   "id": "8044f2ad-7901-4b73-a553-b43542134b3c",
   "metadata": {},
   "outputs": [],
   "source": [
    "adata.obs['day'] = adata.obs_names.str.split('_').str[-1]"
   ]
  },
  {
   "cell_type": "code",
   "execution_count": 11,
   "id": "c8dfe950-f29e-45ef-8c19-d3622774356b",
   "metadata": {},
   "outputs": [],
   "source": [
    "day_map = {\n",
    "    '1':'2',\n",
    "    '2': '3',\n",
    "    '3': '4',\n",
    "    '4': '5',\n",
    "    '5': '7',\n",
    "    '6': '10',\n",
    "    '7': '15'\n",
    "}"
   ]
  },
  {
   "cell_type": "code",
   "execution_count": 12,
   "id": "d2d5464e-782b-4b38-bd91-9d4356bbc900",
   "metadata": {},
   "outputs": [],
   "source": [
    "adata.obs['day'] = adata.obs.day.map(day_map)"
   ]
  },
  {
   "cell_type": "code",
   "execution_count": 18,
   "id": "40f23540-ca83-40db-bf37-648b8b299fb6",
   "metadata": {},
   "outputs": [],
   "source": [
    "adata.write(os.path.join(data_path, \"Day2_15_RNAseq.h5ad\"))"
   ]
  },
  {
   "cell_type": "code",
   "execution_count": 14,
   "id": "e74abf2a-3b3b-417f-8a9b-b15fa28b78d3",
   "metadata": {},
   "outputs": [
    {
     "data": {
      "text/html": [
       "<div>\n",
       "<style scoped>\n",
       "    .dataframe tbody tr th:only-of-type {\n",
       "        vertical-align: middle;\n",
       "    }\n",
       "\n",
       "    .dataframe tbody tr th {\n",
       "        vertical-align: top;\n",
       "    }\n",
       "\n",
       "    .dataframe thead th {\n",
       "        text-align: right;\n",
       "    }\n",
       "</style>\n",
       "<table border=\"1\" class=\"dataframe\">\n",
       "  <thead>\n",
       "    <tr style=\"text-align: right;\">\n",
       "      <th></th>\n",
       "      <th>clusters</th>\n",
       "      <th>day</th>\n",
       "    </tr>\n",
       "  </thead>\n",
       "  <tbody>\n",
       "    <tr>\n",
       "      <th>AAACCCAAGAGCAAGA-1_5</th>\n",
       "      <td>22</td>\n",
       "      <td>7</td>\n",
       "    </tr>\n",
       "    <tr>\n",
       "      <th>AAACCCAAGCCGCACT-1_7</th>\n",
       "      <td>1</td>\n",
       "      <td>15</td>\n",
       "    </tr>\n",
       "    <tr>\n",
       "      <th>AAACCCAAGCCGTTGC-1_5</th>\n",
       "      <td>0</td>\n",
       "      <td>7</td>\n",
       "    </tr>\n",
       "    <tr>\n",
       "      <th>AAACCCAAGCGAGAAA-1_6</th>\n",
       "      <td>21</td>\n",
       "      <td>10</td>\n",
       "    </tr>\n",
       "    <tr>\n",
       "      <th>AAACCCAAGCTCCATA-1_1</th>\n",
       "      <td>2</td>\n",
       "      <td>2</td>\n",
       "    </tr>\n",
       "    <tr>\n",
       "      <th>...</th>\n",
       "      <td>...</td>\n",
       "      <td>...</td>\n",
       "    </tr>\n",
       "    <tr>\n",
       "      <th>TTTGTTGTCGGATACT-1_5</th>\n",
       "      <td>27</td>\n",
       "      <td>7</td>\n",
       "    </tr>\n",
       "    <tr>\n",
       "      <th>TTTGTTGTCGTCAAAC-1_4</th>\n",
       "      <td>8</td>\n",
       "      <td>5</td>\n",
       "    </tr>\n",
       "    <tr>\n",
       "      <th>TTTGTTGTCGTTCCCA-1_5</th>\n",
       "      <td>0</td>\n",
       "      <td>7</td>\n",
       "    </tr>\n",
       "    <tr>\n",
       "      <th>TTTGTTGTCTCTCTAA-1_6</th>\n",
       "      <td>6</td>\n",
       "      <td>10</td>\n",
       "    </tr>\n",
       "    <tr>\n",
       "      <th>TTTGTTGTCTTAGGAC-1_1</th>\n",
       "      <td>4</td>\n",
       "      <td>2</td>\n",
       "    </tr>\n",
       "  </tbody>\n",
       "</table>\n",
       "<p>35499 rows × 2 columns</p>\n",
       "</div>"
      ],
      "text/plain": [
       "                      clusters day\n",
       "AAACCCAAGAGCAAGA-1_5        22   7\n",
       "AAACCCAAGCCGCACT-1_7         1  15\n",
       "AAACCCAAGCCGTTGC-1_5         0   7\n",
       "AAACCCAAGCGAGAAA-1_6        21  10\n",
       "AAACCCAAGCTCCATA-1_1         2   2\n",
       "...                        ...  ..\n",
       "TTTGTTGTCGGATACT-1_5        27   7\n",
       "TTTGTTGTCGTCAAAC-1_4         8   5\n",
       "TTTGTTGTCGTTCCCA-1_5         0   7\n",
       "TTTGTTGTCTCTCTAA-1_6         6  10\n",
       "TTTGTTGTCTTAGGAC-1_1         4   2\n",
       "\n",
       "[35499 rows x 2 columns]"
      ]
     },
     "execution_count": 14,
     "metadata": {},
     "output_type": "execute_result"
    }
   ],
   "source": [
    "adata.obs"
   ]
  },
  {
   "cell_type": "code",
   "execution_count": null,
   "id": "c7d6af96-14c2-48ef-9af6-0ea96c49b1bd",
   "metadata": {},
   "outputs": [],
   "source": []
  }
 ],
 "metadata": {
  "kernelspec": {
   "display_name": "Python 3 (ipykernel)",
   "language": "python",
   "name": "python3"
  },
  "language_info": {
   "codemirror_mode": {
    "name": "ipython",
    "version": 3
   },
   "file_extension": ".py",
   "mimetype": "text/x-python",
   "name": "python",
   "nbconvert_exporter": "python",
   "pygments_lexer": "ipython3",
   "version": "3.8.13"
  }
 },
 "nbformat": 4,
 "nbformat_minor": 5
}
