{
 "cells": [
  {
   "cell_type": "markdown",
   "id": "d3fdbfcf-5b0d-40f0-8116-2eb28108db13",
   "metadata": {},
   "source": [
    "# Save RNA and ATAC data as anndata from transferred data"
   ]
  },
  {
   "cell_type": "code",
   "execution_count": 2,
   "id": "82f42ed1-a59d-496f-a87b-075070222cbe",
   "metadata": {},
   "outputs": [],
   "source": [
    "import anndata as ad\n",
    "import scipy.io\n",
    "import pandas as pd\n",
    "import os\n",
    "import anndata as ad"
   ]
  },
  {
   "cell_type": "code",
   "execution_count": 15,
   "id": "7f843c6d-d276-42c1-a471-6e6cef1f8a54",
   "metadata": {},
   "outputs": [],
   "source": [
    "data_path = os.path.join(\"/lustre/groups/ml01/workspace/laura.martens/moretti_colab/archr_final\", \"Epicardiods\", \"Anndata\")"
   ]
  },
  {
   "cell_type": "code",
   "execution_count": 8,
   "id": "c2e3fa38-1110-4d98-b12a-840722e875d0",
   "metadata": {},
   "outputs": [],
   "source": [
    "with open(os.path.join(data_path, 'matrix.mtx'), 'rb') as mm:\n",
    "    x = scipy.io.mmread(mm).T.tocsr()"
   ]
  },
  {
   "cell_type": "code",
   "execution_count": 11,
   "id": "66681f02-2b99-42b0-991b-630479588fa9",
   "metadata": {},
   "outputs": [],
   "source": [
    "obs = pd.read_csv(os.path.join(data_path, 'obs.csv'), sep=',')"
   ]
  },
  {
   "cell_type": "code",
   "execution_count": 13,
   "id": "73554de9-d295-4930-b098-f4c6fcd48bbf",
   "metadata": {},
   "outputs": [],
   "source": [
    "var = pd.read_csv(os.path.join(data_path, 'var.csv'), sep=',')"
   ]
  },
  {
   "cell_type": "code",
   "execution_count": 19,
   "id": "bcee69e5-0a0a-4625-9ff9-22452bd7fb69",
   "metadata": {},
   "outputs": [],
   "source": [
    "var.index = var.seqnames + \":\" + var.start.astype(str) + \"-\" + var.end.astype(str)"
   ]
  },
  {
   "cell_type": "code",
   "execution_count": 22,
   "id": "2ed31d9e-ae3a-43e5-94a0-0ee2cc9e836e",
   "metadata": {},
   "outputs": [
    {
     "name": "stderr",
     "output_type": "stream",
     "text": [
      "/tmp/ipykernel_6232/1750927739.py:1: FutureWarning: X.dtype being converted to np.float32 from int64. In the next version of anndata (0.9) conversion will not be automatic. Pass dtype explicitly to avoid this warning. Pass `AnnData(X, dtype=X.dtype, ...)` to get the future behavour.\n",
      "  adata = ad.AnnData(X=x, obs=obs, var=var)\n"
     ]
    }
   ],
   "source": [
    "adata = ad.AnnData(X=x, obs=obs, var=var)\n",
    "adata.var_names_make_unique()"
   ]
  },
  {
   "cell_type": "code",
   "execution_count": 26,
   "id": "49afffd5-d920-489e-b3b0-2c978c223e62",
   "metadata": {},
   "outputs": [],
   "source": [
    "adata.write(os.path.join(data_path, 'adata.h5ad'))"
   ]
  },
  {
   "cell_type": "code",
   "execution_count": 27,
   "id": "8a681225-c49c-4bbb-b70f-e521890d15c9",
   "metadata": {},
   "outputs": [],
   "source": [
    "import scanpy as sc"
   ]
  },
  {
   "cell_type": "code",
   "execution_count": 28,
   "id": "0521e3ff-e5f3-4041-b8b2-6c9e57378450",
   "metadata": {},
   "outputs": [],
   "source": [
    "sc.pp.filter_genes(adata, min_cells = int(adata.shape[0]*0.01))"
   ]
  },
  {
   "cell_type": "code",
   "execution_count": 30,
   "id": "eb391c00-bd8e-4742-8eaa-7e4dfa98c163",
   "metadata": {},
   "outputs": [],
   "source": [
    "adata.write(os.path.join(data_path, 'adata_filtered.h5ad'))"
   ]
  },
  {
   "cell_type": "markdown",
   "id": "19a54478-052c-43a9-ad42-5d8f8e5936c4",
   "metadata": {},
   "source": [
    "# Load RNA seq data"
   ]
  },
  {
   "cell_type": "code",
   "execution_count": 17,
   "id": "e8e81612-70ef-452f-b2c1-8cab2fe8fe0d",
   "metadata": {},
   "outputs": [],
   "source": [
    "data_path = os.path.join(\"/lustre/groups/ml01/workspace/laura.martens/moretti_colab/transfer_data\")"
   ]
  },
  {
   "cell_type": "code",
   "execution_count": 4,
   "id": "cc8d0610-3505-4e01-883e-a4abc75411a6",
   "metadata": {},
   "outputs": [],
   "source": [
    "counts = pd.read_csv(os.path.join(data_path, \"counts.csv\"))"
   ]
  },
  {
   "cell_type": "code",
   "execution_count": 5,
   "id": "9ce1796e-e064-46fd-b0a8-e7688bd7a607",
   "metadata": {},
   "outputs": [],
   "source": [
    "obs = pd.DataFrame(counts['clusters'], index = counts.index)"
   ]
  },
  {
   "cell_type": "code",
   "execution_count": 6,
   "id": "c11d9137-ffde-4d9a-935d-1cca0d805c09",
   "metadata": {},
   "outputs": [],
   "source": [
    "counts = counts.drop('clusters', axis =1)"
   ]
  },
  {
   "cell_type": "code",
   "execution_count": 7,
   "id": "b30d095f-d79d-4a7f-a213-e30fb3881aff",
   "metadata": {},
   "outputs": [],
   "source": [
    "var = pd.DataFrame(counts.columns.values, index=counts.columns.values, columns=[\"gene\"])"
   ]
  },
  {
   "cell_type": "code",
   "execution_count": 8,
   "id": "164b9a1f-162a-4fe2-896a-b885d2afa799",
   "metadata": {},
   "outputs": [],
   "source": [
    "adata = ad.AnnData(counts, obs=obs, var=var)"
   ]
  },
  {
   "cell_type": "code",
   "execution_count": 9,
   "id": "77bd4fbd-f0b0-4cd2-9b3c-9ee2cbacecee",
   "metadata": {},
   "outputs": [
    {
     "data": {
      "text/plain": [
       "AnnData object with n_obs × n_vars = 35499 × 24353\n",
       "    obs: 'clusters'\n",
       "    var: 'gene'"
      ]
     },
     "execution_count": 9,
     "metadata": {},
     "output_type": "execute_result"
    }
   ],
   "source": [
    "adata"
   ]
  },
  {
   "cell_type": "code",
   "execution_count": 10,
   "id": "8044f2ad-7901-4b73-a553-b43542134b3c",
   "metadata": {},
   "outputs": [],
   "source": [
    "adata.obs['day'] = adata.obs_names.str.split('_').str[-1]"
   ]
  },
  {
   "cell_type": "code",
   "execution_count": 11,
   "id": "c8dfe950-f29e-45ef-8c19-d3622774356b",
   "metadata": {},
   "outputs": [],
   "source": [
    "day_map = {\n",
    "    '1':'2',\n",
    "    '2': '3',\n",
    "    '3': '4',\n",
    "    '4': '5',\n",
    "    '5': '7',\n",
    "    '6': '10',\n",
    "    '7': '15'\n",
    "}"
   ]
  },
  {
   "cell_type": "code",
   "execution_count": 12,
   "id": "d2d5464e-782b-4b38-bd91-9d4356bbc900",
   "metadata": {},
   "outputs": [],
   "source": [
    "adata.obs['day'] = adata.obs.day.map(day_map)"
   ]
  },
  {
   "cell_type": "code",
   "execution_count": 18,
   "id": "40f23540-ca83-40db-bf37-648b8b299fb6",
   "metadata": {},
   "outputs": [],
   "source": [
    "adata.write(os.path.join(data_path, \"Day2_15_RNAseq.h5ad\"))"
   ]
  },
  {
   "cell_type": "code",
   "execution_count": 14,
   "id": "e74abf2a-3b3b-417f-8a9b-b15fa28b78d3",
   "metadata": {},
   "outputs": [
    {
     "data": {
      "text/html": [
       "<div>\n",
       "<style scoped>\n",
       "    .dataframe tbody tr th:only-of-type {\n",
       "        vertical-align: middle;\n",
       "    }\n",
       "\n",
       "    .dataframe tbody tr th {\n",
       "        vertical-align: top;\n",
       "    }\n",
       "\n",
       "    .dataframe thead th {\n",
       "        text-align: right;\n",
       "    }\n",
       "</style>\n",
       "<table border=\"1\" class=\"dataframe\">\n",
       "  <thead>\n",
       "    <tr style=\"text-align: right;\">\n",
       "      <th></th>\n",
       "      <th>clusters</th>\n",
       "      <th>day</th>\n",
       "    </tr>\n",
       "  </thead>\n",
       "  <tbody>\n",
       "    <tr>\n",
       "      <th>AAACCCAAGAGCAAGA-1_5</th>\n",
       "      <td>22</td>\n",
       "      <td>7</td>\n",
       "    </tr>\n",
       "    <tr>\n",
       "      <th>AAACCCAAGCCGCACT-1_7</th>\n",
       "      <td>1</td>\n",
       "      <td>15</td>\n",
       "    </tr>\n",
       "    <tr>\n",
       "      <th>AAACCCAAGCCGTTGC-1_5</th>\n",
       "      <td>0</td>\n",
       "      <td>7</td>\n",
       "    </tr>\n",
       "    <tr>\n",
       "      <th>AAACCCAAGCGAGAAA-1_6</th>\n",
       "      <td>21</td>\n",
       "      <td>10</td>\n",
       "    </tr>\n",
       "    <tr>\n",
       "      <th>AAACCCAAGCTCCATA-1_1</th>\n",
       "      <td>2</td>\n",
       "      <td>2</td>\n",
       "    </tr>\n",
       "    <tr>\n",
       "      <th>...</th>\n",
       "      <td>...</td>\n",
       "      <td>...</td>\n",
       "    </tr>\n",
       "    <tr>\n",
       "      <th>TTTGTTGTCGGATACT-1_5</th>\n",
       "      <td>27</td>\n",
       "      <td>7</td>\n",
       "    </tr>\n",
       "    <tr>\n",
       "      <th>TTTGTTGTCGTCAAAC-1_4</th>\n",
       "      <td>8</td>\n",
       "      <td>5</td>\n",
       "    </tr>\n",
       "    <tr>\n",
       "      <th>TTTGTTGTCGTTCCCA-1_5</th>\n",
       "      <td>0</td>\n",
       "      <td>7</td>\n",
       "    </tr>\n",
       "    <tr>\n",
       "      <th>TTTGTTGTCTCTCTAA-1_6</th>\n",
       "      <td>6</td>\n",
       "      <td>10</td>\n",
       "    </tr>\n",
       "    <tr>\n",
       "      <th>TTTGTTGTCTTAGGAC-1_1</th>\n",
       "      <td>4</td>\n",
       "      <td>2</td>\n",
       "    </tr>\n",
       "  </tbody>\n",
       "</table>\n",
       "<p>35499 rows × 2 columns</p>\n",
       "</div>"
      ],
      "text/plain": [
       "                      clusters day\n",
       "AAACCCAAGAGCAAGA-1_5        22   7\n",
       "AAACCCAAGCCGCACT-1_7         1  15\n",
       "AAACCCAAGCCGTTGC-1_5         0   7\n",
       "AAACCCAAGCGAGAAA-1_6        21  10\n",
       "AAACCCAAGCTCCATA-1_1         2   2\n",
       "...                        ...  ..\n",
       "TTTGTTGTCGGATACT-1_5        27   7\n",
       "TTTGTTGTCGTCAAAC-1_4         8   5\n",
       "TTTGTTGTCGTTCCCA-1_5         0   7\n",
       "TTTGTTGTCTCTCTAA-1_6         6  10\n",
       "TTTGTTGTCTTAGGAC-1_1         4   2\n",
       "\n",
       "[35499 rows x 2 columns]"
      ]
     },
     "execution_count": 14,
     "metadata": {},
     "output_type": "execute_result"
    }
   ],
   "source": [
    "adata.obs"
   ]
  },
  {
   "cell_type": "code",
   "execution_count": null,
   "id": "c7d6af96-14c2-48ef-9af6-0ea96c49b1bd",
   "metadata": {},
   "outputs": [],
   "source": []
  }
 ],
 "metadata": {
  "kernelspec": {
   "display_name": "Python 3 (ipykernel)",
   "language": "python",
   "name": "python3"
  },
  "language_info": {
   "codemirror_mode": {
    "name": "ipython",
    "version": 3
   },
   "file_extension": ".py",
   "mimetype": "text/x-python",
   "name": "python",
   "nbconvert_exporter": "python",
   "pygments_lexer": "ipython3",
   "version": "3.8.13"
  }
 },
 "nbformat": 4,
 "nbformat_minor": 5
}
