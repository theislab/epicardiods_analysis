{
 "cells": [
  {
   "cell_type": "markdown",
   "id": "4e6d1508-f87f-47b8-a8a2-8073d4943ad5",
   "metadata": {},
   "source": [
    "# JCF cell analysis"
   ]
  },
  {
   "cell_type": "markdown",
   "id": "4aae851d-3a3d-466f-9076-d81e63fb3405",
   "metadata": {},
   "source": [
    "## Import packages"
   ]
  },
  {
   "cell_type": "markdown",
   "id": "0bcc377e-9e7c-4bab-90a3-d059f68d38ba",
   "metadata": {},
   "source": [
    "If you want modules to be automatically reloaded when you call them, use `autoreload`:"
   ]
  },
  {
   "cell_type": "code",
   "execution_count": null,
   "id": "cde3b120-d19e-4082-8acd-16bd64a32e01",
   "metadata": {
    "ExecuteTime": {
     "end_time": "2021-04-16T14:32:10.128265Z",
     "start_time": "2021-04-16T14:32:10.110030Z"
    }
   },
   "outputs": [],
   "source": [
    "%load_ext autoreload\n",
    "%autoreload 2"
   ]
  },
  {
   "cell_type": "markdown",
   "id": "7042eb62-22af-4cb0-9f97-394b9e9345fa",
   "metadata": {},
   "source": [
    "Import packages"
   ]
  },
  {
   "cell_type": "code",
   "execution_count": null,
   "id": "b10700e5-ed30-4e31-948f-81a91aa257c5",
   "metadata": {},
   "outputs": [],
   "source": [
    "import anndata\n",
    "import scanpy as sc\n",
    "import os\n",
    "import seaborn as sns\n",
    "import numpy as np\n",
    "import pandas as pd\n",
    "import matplotlib.pyplot as plt\n",
    "\n",
    "import cellrank as cr\n",
    "import scvelo as scv"
   ]
  },
  {
   "cell_type": "code",
   "execution_count": null,
   "id": "b518274a-9b14-449e-93a6-b2cc85122fdc",
   "metadata": {},
   "outputs": [],
   "source": [
    "scv.set_figure_params()\n",
    "sc.settings.set_figure_params(dpi=100, facecolor='white', frameon=False)"
   ]
  },
  {
   "cell_type": "code",
   "execution_count": null,
   "id": "ffcf282d-3a7c-45a4-bfa0-dc1e9b16251b",
   "metadata": {},
   "outputs": [],
   "source": [
    "from utils import *"
   ]
  },
  {
   "cell_type": "code",
   "execution_count": null,
   "id": "c6b0f951-6e9f-4f81-b2b3-548cdcb114e5",
   "metadata": {},
   "outputs": [],
   "source": [
    "my_cmap = get_continuous_cmap(['D6D6D6', '5D4FF4'])"
   ]
  },
  {
   "cell_type": "markdown",
   "id": "ef6eed62-03cf-4d66-a5e4-91c0b7ad0011",
   "metadata": {},
   "source": [
    "## Print package versions for reproducibility"
   ]
  },
  {
   "cell_type": "markdown",
   "id": "e8ddefbd-4aae-4795-9c98-5bdfc155430a",
   "metadata": {},
   "source": [
    "If you want to exactly reproduce the results shown here, please make sure that your package versions match what is printed below. "
   ]
  },
  {
   "cell_type": "code",
   "execution_count": null,
   "id": "ae68060e-c7a1-4307-adbd-34acd4be41bd",
   "metadata": {
    "ExecuteTime": {
     "end_time": "2021-04-16T14:32:25.835859Z",
     "start_time": "2021-04-16T14:32:25.800326Z"
    }
   },
   "outputs": [],
   "source": [
    "cr.logging.print_versions()"
   ]
  },
  {
   "cell_type": "code",
   "execution_count": null,
   "id": "fc8561a7-a29f-42e8-80ce-2378a4c05851",
   "metadata": {
    "ExecuteTime": {
     "end_time": "2021-04-16T14:32:25.872280Z",
     "start_time": "2021-04-16T14:32:25.837898Z"
    }
   },
   "outputs": [],
   "source": [
    "cr.logging.print_version_and_date()"
   ]
  },
  {
   "cell_type": "markdown",
   "id": "dec0b611-ce2c-44d8-ac8b-99abf18f6d3f",
   "metadata": {},
   "source": [
    "## Setup paths"
   ]
  },
  {
   "cell_type": "code",
   "execution_count": null,
   "id": "3950b039-5cbf-4e70-b492-fbc9aedb37cb",
   "metadata": {},
   "outputs": [],
   "source": [
    "data_path = '/lustre/groups/ml01/workspace/laura.martens/moretti_colab'\n",
    "save_path = os.path.join(data_path, 'scglue')\n",
    "scvelo_path = os.path.join(data_path, 'scvelo')"
   ]
  },
  {
   "cell_type": "code",
   "execution_count": null,
   "id": "2a5af0a9-c5b3-4de1-86a5-60c4d40671e0",
   "metadata": {},
   "outputs": [],
   "source": [
    "fig_path = '/lustre/groups/ml01/workspace/laura.martens/moretti_colab/panels/jcf'\n",
    "sc.settings.figdir = fig_path"
   ]
  },
  {
   "cell_type": "markdown",
   "id": "5fc2e5c2-abde-4df5-8f17-30e0eda722b9",
   "metadata": {},
   "source": [
    "# Load data"
   ]
  },
  {
   "cell_type": "code",
   "execution_count": null,
   "id": "fc16cbaa-7e0b-4d0e-9620-5c80421d7ed8",
   "metadata": {},
   "outputs": [],
   "source": [
    "adata = sc.read('/lustre/groups/ml01/workspace/laura.martens/moretti_colab/scglue/metacells_imputed.h5ad')"
   ]
  },
  {
   "cell_type": "code",
   "execution_count": null,
   "id": "00f36af7-33b4-49b5-b7a1-058121dc239f",
   "metadata": {},
   "outputs": [],
   "source": [
    "# Load scvelo results\n",
    "scvelo_adata = sc.read(os.path.join(scvelo_path, 'scvelo_adata_non_dl.h5ad'))"
   ]
  },
  {
   "cell_type": "code",
   "execution_count": null,
   "id": "376f737e-93c1-42c0-a73d-c91a28975ba8",
   "metadata": {},
   "outputs": [],
   "source": [
    "scvelo_adata = scvelo_adata[adata.obs_names].copy()"
   ]
  },
  {
   "cell_type": "code",
   "execution_count": null,
   "id": "b0515dd5-8040-48cb-9aa2-f724b0cb9791",
   "metadata": {},
   "outputs": [],
   "source": [
    "scvelo_adata.obsm['X_umap'] = adata.obsm['X_umap']\n",
    "scvelo_adata.obsm['X_glue'] = adata.obsm['X_glue']\n",
    "scvelo_adata.obs = scvelo_adata.obs.join(adata.obs.leiden_res1, lsuffix='old')"
   ]
  },
  {
   "cell_type": "code",
   "execution_count": null,
   "id": "207f1fbe-61eb-4119-8257-3b91eb40660b",
   "metadata": {},
   "outputs": [],
   "source": [
    "scvelo_adata.uns.update({'leiden_res1_colors': adata.uns['leiden_res1_colors']})"
   ]
  },
  {
   "cell_type": "markdown",
   "id": "bc447109-b758-4f8f-bfab-6df325a8a1b8",
   "metadata": {},
   "source": [
    "## Load marker genes"
   ]
  },
  {
   "cell_type": "code",
   "execution_count": null,
   "id": "120ecfc9-4b4d-4852-be78-ef5413c0b827",
   "metadata": {},
   "outputs": [],
   "source": [
    "markers = pd.read_excel(os.path.join(data_path, 'transfer_data', 'Markers_lineages.xlsx'))"
   ]
  },
  {
   "cell_type": "code",
   "execution_count": null,
   "id": "cca5d9e8-a295-4943-90fb-d5cbee3af509",
   "metadata": {},
   "outputs": [],
   "source": [
    "markers = {key: markers[key][~markers[key].isna()].to_list() for key in markers.columns}"
   ]
  },
  {
   "cell_type": "markdown",
   "id": "451a9875-db2b-4a30-bfb4-e04761ddec3a",
   "metadata": {},
   "source": [
    "## Load cellrank results"
   ]
  },
  {
   "cell_type": "code",
   "execution_count": null,
   "id": "5f6ae8f5-fd39-455a-bc5e-0228a5c14343",
   "metadata": {},
   "outputs": [],
   "source": [
    "from cellrank.tl.kernels import PseudotimeKernel, ConnectivityKernel, VelocityKernel\n",
    "from cellrank.tl.estimators import GPCCA"
   ]
  },
  {
   "cell_type": "code",
   "execution_count": null,
   "id": "b43d0226-c337-4429-a2d6-5c7e5a659a6a",
   "metadata": {},
   "outputs": [],
   "source": [
    "terminal_states = ['Epicardial', 'Cardiomyocyte']"
   ]
  },
  {
   "cell_type": "code",
   "execution_count": null,
   "id": "fbecab74-ab07-4f1a-8045-69739a97d27d",
   "metadata": {},
   "outputs": [],
   "source": [
    "g = GPCCA.read(os.path.join(data_path, 'cellrank', 'g.pickle'))"
   ]
  },
  {
   "cell_type": "code",
   "execution_count": null,
   "id": "40c2340a-9207-4bc8-91ee-1f96aec8b4c6",
   "metadata": {},
   "outputs": [],
   "source": [
    "g.adata = adata"
   ]
  },
  {
   "cell_type": "code",
   "execution_count": null,
   "id": "1f0f5b00-00ed-41ba-ba1b-e4b9e45264df",
   "metadata": {},
   "outputs": [],
   "source": [
    "g.compute_absorption_probabilities(solver='gmres', use_petsc=True)"
   ]
  },
  {
   "cell_type": "markdown",
   "id": "e2b84f29-34d7-43b5-879a-017bdb378646",
   "metadata": {},
   "source": [
    "# Restrict to Pre-JCF, JCF and Epicardial"
   ]
  },
  {
   "cell_type": "code",
   "execution_count": null,
   "id": "9bf6de48-f2b6-43d0-8233-983793c09cc8",
   "metadata": {},
   "outputs": [],
   "source": [
    "cluster = ['14']\n",
    "adata_epi = g.adata[g.adata.obs.leiden_res1.isin(cluster)].copy()"
   ]
  },
  {
   "cell_type": "code",
   "execution_count": null,
   "id": "bd438b4d-9623-4082-9610-cf41f227e3a5",
   "metadata": {},
   "outputs": [],
   "source": [
    "adata_epi_scvelo = scvelo_adata[adata_epi.obs_names]"
   ]
  },
  {
   "cell_type": "markdown",
   "id": "35dd1cbf-8c53-43ea-9f5c-5dad7fdf43b2",
   "metadata": {},
   "source": [
    "## Plot UMAP"
   ]
  },
  {
   "cell_type": "code",
   "execution_count": null,
   "id": "da768f69-bc6f-4dc0-9a7b-4fcb7370447d",
   "metadata": {},
   "outputs": [],
   "source": [
    "for key in ['leiden_res1', 'atac_match', 'day']:\n",
    "    fig, ax = plt.subplots(figsize=(6, 2))\n",
    "    sc.pl.umap(adata_epi, color=[key], save=f'jcf_{key}.pdf', ax=ax)"
   ]
  },
  {
   "cell_type": "code",
   "execution_count": null,
   "id": "07921506-9b8c-44fe-8945-1630f6ad9636",
   "metadata": {},
   "outputs": [],
   "source": [
    "adata_epi.obs['Epicardial'] = adata_epi.obsm['to_terminal_states'][\"Epicardial\"].X"
   ]
  },
  {
   "cell_type": "code",
   "execution_count": null,
   "id": "fc60d052-51ab-4adb-8892-1896b63f57e6",
   "metadata": {},
   "outputs": [],
   "source": [
    "adata_epi.obs['Endoderm'] = adata_epi.obsm['to_terminal_states'][\"Endoderm\"].X"
   ]
  },
  {
   "cell_type": "code",
   "execution_count": null,
   "id": "a19ce37e-e870-42c9-bd79-5c618c446bd5",
   "metadata": {},
   "outputs": [],
   "source": [
    "adata_epi.obs['Cardiomyocyte'] = adata_epi.obsm['to_terminal_states']['Cardiomyocyte'].X"
   ]
  },
  {
   "cell_type": "code",
   "execution_count": null,
   "id": "dd3087aa-2d85-4d78-ab3f-841bf2cd0d20",
   "metadata": {},
   "outputs": [],
   "source": [
    "fig, ax = plt.subplots(figsize=(6, 2))\n",
    "sc.pl.umap(adata_epi, color=['Cardiomyocyte'], save='ap_jcf_cardiomyocytes.pdf',  vmin=[0.2], ax=ax)"
   ]
  },
  {
   "cell_type": "code",
   "execution_count": null,
   "id": "ad2fc449-9cae-4f9f-a16d-f9737937a416",
   "metadata": {},
   "outputs": [],
   "source": [
    "fig, ax = plt.subplots(figsize=(6, 2))\n",
    "sc.pl.umap(adata_epi, color=['Epicardial'], save='ap_jcf_epicardial.pdf', ax=ax)"
   ]
  },
  {
   "cell_type": "code",
   "execution_count": null,
   "id": "001cfffb-df2e-4e60-a08e-45bda3c7d83a",
   "metadata": {},
   "outputs": [],
   "source": [
    "# test z scored absorption probability\n",
    "adata_epi.obs['Epicardial_zscore'] = scipy.stats.zscore(adata_epi.obsm['to_terminal_states'][\"Epicardial\"].X)"
   ]
  },
  {
   "cell_type": "code",
   "execution_count": null,
   "id": "5e346375-87a0-464a-a5db-0f164377ed7c",
   "metadata": {},
   "outputs": [],
   "source": [
    "fig, ax = plt.subplots(figsize=(6, 2))\n",
    "sc.pl.umap(adata_epi, color=['Epicardial_zscore'], save='ap_jcf_epicardial_zscore.pdf', ax=ax)"
   ]
  },
  {
   "cell_type": "markdown",
   "id": "5493038e-891b-4278-b679-36539b003364",
   "metadata": {},
   "source": [
    "## Kmeans clustering"
   ]
  },
  {
   "cell_type": "code",
   "execution_count": null,
   "id": "320e7c55-7199-4e8f-a99c-573a85961e97",
   "metadata": {},
   "outputs": [],
   "source": [
    "from sklearn.cluster import KMeans\n",
    "# extract pca coordinates\n",
    "absorption_prob = adata_epi.obs.loc[:, ['Cardiomyocyte']].values.reshape(-1, 1)\n",
    "\n",
    "# kmeans with k=5\n",
    "kmeans = KMeans(n_clusters=2, random_state=0).fit(absorption_prob) \n",
    "adata_epi.obs['kmeans'] = kmeans.labels_.astype(str)\n",
    "adata_epi.obs['cluster'] = adata_epi.obs['kmeans'].map({'0': 'CM', '1': 'Epi'})\n",
    "fig, ax = plt.subplots(figsize=(6, 2))\n",
    "sc.pl.umap(adata_epi, color=['cluster'], save='ap_jcf_cluster.pdf',ax=ax, palette=['#023fa5', '#ef9708'])"
   ]
  },
  {
   "cell_type": "markdown",
   "id": "9f042d24-5f4b-4f34-af89-fb8f32f7ca41",
   "metadata": {},
   "source": [
    "## Save absorption probabilities"
   ]
  },
  {
   "cell_type": "code",
   "execution_count": null,
   "id": "48543fd7-7e13-487a-907a-6d4a2dc72010",
   "metadata": {},
   "outputs": [],
   "source": [
    "prob = adata_epi.obs.loc[:, ['Epicardial', 'Cardiomyocyte', 'Epicardial_zscore', 'cluster']]"
   ]
  },
  {
   "cell_type": "code",
   "execution_count": null,
   "id": "5d2861bb-8c89-4acd-b67f-fe153b511f66",
   "metadata": {},
   "outputs": [],
   "source": [
    "prob.to_csv('/lustre/groups/ml01/workspace/laura.martens/moretti_colab/pando/absorption_prob.csv')"
   ]
  },
  {
   "cell_type": "markdown",
   "id": "3efe8636-7640-45e5-a2ac-23ee147191fb",
   "metadata": {},
   "source": [
    "## Plot violin"
   ]
  },
  {
   "cell_type": "code",
   "execution_count": null,
   "id": "751269c6-2c01-4837-bac3-2cc428c4d096",
   "metadata": {},
   "outputs": [],
   "source": [
    "ax = sc.pl.violin(adata_epi, keys='Epicardial', groupby='leiden_res1', show=False)\n",
    "plt.ylabel('Absorption probability\\nEpicardial lineage')\n",
    "plt.savefig(os.path.join(fig_path, 'violin_jcf__epicardial_ap.pdf'))"
   ]
  },
  {
   "cell_type": "code",
   "execution_count": null,
   "id": "f981e273-f719-4118-ac5f-1f12b76a3b83",
   "metadata": {},
   "outputs": [],
   "source": [
    "ax = sc.pl.violin(adata_epi, keys='Cardiomyocyte', groupby='leiden_res1', show=False)\n",
    "plt.ylabel('Absorption probability\\nCardiomyocyte lineage')\n",
    "plt.savefig(os.path.join(fig_path, 'violin_jcf_cardiomyocyte_ap.pdf'))"
   ]
  },
  {
   "cell_type": "markdown",
   "id": "f954ecc0-209c-424e-893c-7f83dc7dc2d6",
   "metadata": {},
   "source": [
    "# Plot module scores"
   ]
  },
  {
   "cell_type": "code",
   "execution_count": null,
   "id": "31e5e92f-1bc3-4ece-9b55-fe241f575fcb",
   "metadata": {},
   "outputs": [],
   "source": [
    "module_score_pos = pd.read_csv(os.path.join(fig_path, 'module_score_pos.csv'), index_col=0)"
   ]
  },
  {
   "cell_type": "code",
   "execution_count": null,
   "id": "bea00ab4-6400-40e1-bf25-70b21292d236",
   "metadata": {},
   "outputs": [],
   "source": [
    "module_pos = ad.AnnData(module_score_pos, obs=adata_epi.obs, uns=adata_epi.uns, obsm=adata_epi.obsm)"
   ]
  },
  {
   "cell_type": "code",
   "execution_count": null,
   "id": "7d275a91-08f2-4ec7-8772-0dd1fc102846",
   "metadata": {},
   "outputs": [],
   "source": [
    "module_score_neg = pd.read_csv(os.path.join(fig_path, 'module_score_neg.csv'), index_col=0)"
   ]
  },
  {
   "cell_type": "code",
   "execution_count": null,
   "id": "62ca7360-4931-4562-b08e-567753693c4f",
   "metadata": {},
   "outputs": [],
   "source": [
    "module_neg = ad.AnnData(module_score_neg, obs=adata_epi.obs, uns=adata_epi.uns, obsm=adata_epi.obsm)"
   ]
  },
  {
   "cell_type": "code",
   "execution_count": null,
   "id": "e21e98e1-426b-4045-87d9-2471bf093394",
   "metadata": {},
   "outputs": [],
   "source": [
    "features = pd.Series(['HAND2', 'FOS', 'EPAS1', \"MSX1\", \"ISL1\", \"HMGB3\", \"HEY1\", \"HOXB1\", \"MEIS1\", \"GATA4\"])"
   ]
  },
  {
   "cell_type": "code",
   "execution_count": null,
   "id": "dd1272de-2ab7-4148-9e0f-8045e8b4f3db",
   "metadata": {},
   "outputs": [],
   "source": [
    "for feature in features:\n",
    "    fig, ax = plt.subplots(figsize=(6, 2))\n",
    "    sc.pl.umap(module_pos, color=feature, vmin=\"p01\", vmax=\"p99\", ax=ax, save=f\"pos_module_score_{feature}.pdf\")"
   ]
  },
  {
   "cell_type": "code",
   "execution_count": null,
   "id": "e6412718-f82b-4fad-ad20-f520b018d6fa",
   "metadata": {},
   "outputs": [],
   "source": [
    "for feature in features[features.isin(module_neg.var_names)]:\n",
    "    fig, ax = plt.subplots(figsize=(6, 2))\n",
    "    sc.pl.umap(module_neg, color=feature, vmin=\"p01\", vmax=\"p99\", ax=ax, save=f\"neg_module_score_{feature}.pdf\")"
   ]
  },
  {
   "cell_type": "markdown",
   "id": "02af7f64-584b-41d2-9beb-8f0de9f45a43",
   "metadata": {},
   "source": [
    "## Plot expression of downstream targets"
   ]
  },
  {
   "cell_type": "code",
   "execution_count": null,
   "id": "1a0e44d1-d809-486c-aebf-d9a6299451a9",
   "metadata": {},
   "outputs": [],
   "source": [
    "fig, ax = plt.subplots(figsize=(6, 2))\n",
    "gene = 'TFAP2B'\n",
    "sc.pl.umap(adata_epi, color=gene, vmin=\"p01\", vmax=\"p99\", save=f\"{gene}.pdf\", cmap=my_cmap, ax=ax)"
   ]
  },
  {
   "cell_type": "code",
   "execution_count": null,
   "id": "72046efa-a652-4919-ae4d-c50953f4bcf6",
   "metadata": {},
   "outputs": [],
   "source": [
    "fig, ax = plt.subplots(figsize=(6, 2))\n",
    "gene = 'GATA4'\n",
    "sc.pl.umap(adata_epi, color=gene, vmin=\"p01\", vmax=\"p99\", save=f\"{gene}.pdf\", cmap=my_cmap, ax=ax)"
   ]
  },
  {
   "cell_type": "code",
   "execution_count": null,
   "id": "8b09e45e-1a22-446e-9d56-ed7c2f2465e7",
   "metadata": {},
   "outputs": [],
   "source": [
    "targets = ['DPF3', 'NEBL', 'RP11-332H18.4']"
   ]
  },
  {
   "cell_type": "code",
   "execution_count": null,
   "id": "bae15a32-77d8-497e-b763-2c03f7c24b53",
   "metadata": {},
   "outputs": [],
   "source": [
    "for feature in targets:\n",
    "    fig, ax = plt.subplots(figsize=(6, 2))\n",
    "    sc.pl.umap(adata_epi, color=feature, vmin=\"p01\", vmax=\"p99\", ax=ax, save=f\"pos_gata4_target_{feature}.pdf\", cmap=my_cmap)"
   ]
  },
  {
   "cell_type": "code",
   "execution_count": null,
   "id": "addb5a94-4935-4c2f-a960-68e0c05a3a83",
   "metadata": {},
   "outputs": [],
   "source": [
    "sc.set_figure_params(figsize=(6,2), frameon=False)\n",
    "sc.pl.umap(adata_epi, color=targets, vmin=\"p01\", vmax=\"p99\", save=f\"pos_gata4_target_all.pdf\", cmap=my_cmap)"
   ]
  },
  {
   "cell_type": "code",
   "execution_count": null,
   "id": "3038d471-75e7-44c4-a69d-85bef79d5d09",
   "metadata": {},
   "outputs": [],
   "source": [
    "sc.set_figure_params(figsize=(6,2), frameon=False)\n",
    "sc.pl.umap(adata_epi, color=['LRP2'], vmin=\"p01\", vmax=\"p99\", save=f\"neg_gata4_target_all.pdf\", cmap=my_cmap)"
   ]
  },
  {
   "cell_type": "code",
   "execution_count": null,
   "id": "82a6d506-e515-41c2-9c28-afcd1a3298ef",
   "metadata": {},
   "outputs": [],
   "source": [
    "fig, ax = plt.subplots(figsize=(6, 2))\n",
    "sc.pl.umap(adata_epi, color=\"LRP2\", vmin=\"p01\", vmax=\"p99\", ax=ax, save=f\"neg_gata4_target_LRP2.pdf\", cmap=my_cmap)"
   ]
  },
  {
   "cell_type": "code",
   "execution_count": null,
   "id": "afdec910-6c1e-40fe-b56d-196c14c3a7a9",
   "metadata": {
    "tags": []
   },
   "outputs": [],
   "source": [
    "targets = ['AHNAK' , 'CDC42EP1', 'CGN' , 'ELMOD1' , 'EPAS1' , 'F11R' , 'FUT8' , 'GPC5' , 'KCNMA1' , 'KRT19' , 'MXRA8' , 'PDLIM1' , 'PRSS23' , 'RIMS2' , 'SLC28A2' , 'SPINT2' , 'SWAP70' , 'TGIF1' , 'VTCN1' , 'WNT6' , 'WNT7B']"
   ]
  },
  {
   "cell_type": "code",
   "execution_count": null,
   "id": "636e1a4c-bef2-4f76-aeb9-bd25f545e9b4",
   "metadata": {
    "tags": []
   },
   "outputs": [],
   "source": [
    "for feature in targets:\n",
    "    fig, ax = plt.subplots(figsize=(6, 2))\n",
    "    sc.pl.umap(adata_epi, color=feature, vmin=\"p01\", vmax=\"p99\", ax=ax, save=f\"pos_tfap2b_target_{feature}.pdf\", cmap=my_cmap)"
   ]
  },
  {
   "cell_type": "code",
   "execution_count": null,
   "id": "9d32760c-ad3e-4505-bf09-04dde1e8e43e",
   "metadata": {
    "tags": []
   },
   "outputs": [],
   "source": [
    "sc.set_figure_params(figsize=(6,2), frameon=False)\n",
    "sc.pl.umap(adata_epi, color=targets, vmin=\"p01\", vmax=\"p99\", save=f\"pos_tfap2b_target_all.pdf\", cmap=my_cmap)"
   ]
  },
  {
   "cell_type": "code",
   "execution_count": null,
   "id": "43b35ef7-0ebe-4431-b411-70d2c6d4981d",
   "metadata": {
    "tags": []
   },
   "outputs": [],
   "source": [
    "for feature in ['METRN']:\n",
    "    fig, ax = plt.subplots(figsize=(6, 2))\n",
    "    sc.pl.umap(adata_epi, color=feature, vmin=\"p01\", vmax=\"p99\", save=f\"neg_tfap2b_target_{feature}.pdf\", cmap=my_cmap, ax=ax)"
   ]
  },
  {
   "cell_type": "code",
   "execution_count": null,
   "id": "f51043dc-37fc-4327-8bc2-e670dfbc3826",
   "metadata": {
    "tags": []
   },
   "outputs": [],
   "source": [
    "sc.pl.umap(adata_epi, color=['METRN'], vmin=\"p01\", vmax=\"p99\", save=f\"neg_tfap2b_target_all.pdf\", cmap=my_cmap)"
   ]
  },
  {
   "cell_type": "code",
   "execution_count": null,
   "id": "564359dc-807a-4995-9803-1d2b0eddc66f",
   "metadata": {},
   "outputs": [],
   "source": [
    "g.adata = adata"
   ]
  },
  {
   "cell_type": "code",
   "execution_count": null,
   "id": "c0b192dd-8ec0-4a63-ba97-62160e3dfd77",
   "metadata": {},
   "outputs": [],
   "source": [
    "cluster =['14']"
   ]
  },
  {
   "cell_type": "code",
   "execution_count": null,
   "id": "eec0b534-7c46-4f62-a61c-abd15768cb48",
   "metadata": {},
   "outputs": [],
   "source": [
    "dfs = {}\n",
    "for lineage in terminal_states:\n",
    "    print(lineage)\n",
    "    df = g.compute_lineage_drivers(lineages=[lineage], layer='log_counts', cluster_key='leiden_res1', clusters=cluster, method='perm_test', n_jobs=-1)\n",
    "    dfs.update({lineage: df})"
   ]
  },
  {
   "cell_type": "code",
   "execution_count": null,
   "id": "bbe18e2f-94d7-41df-80b6-50ac05e6dd79",
   "metadata": {},
   "outputs": [],
   "source": [
    "epi_drivers = dfs['Epicardial'].dropna()\n",
    "epi_drivers = epi_drivers[epi_drivers['Epicardial_qval'] < 0.05].sort_values('Epicardial_corr', ascending=False)"
   ]
  },
  {
   "cell_type": "code",
   "execution_count": null,
   "id": "c937826c-0d75-48f5-9e79-9e97fb9fc178",
   "metadata": {},
   "outputs": [],
   "source": [
    "cm_drivers = dfs['Cardiomyocyte'].dropna()\n",
    "cm_drivers = cm_drivers[cm_drivers['Cardiomyocyte_qval'] < 0.05].sort_values('Cardiomyocyte_corr', ascending=False)"
   ]
  },
  {
   "cell_type": "code",
   "execution_count": null,
   "id": "4088f2e1-73fc-4f90-b0dd-d506eae08832",
   "metadata": {},
   "outputs": [],
   "source": [
    "gene_drivers = {'Epicardial': epi_drivers, 'Cardiomyocyte': cm_drivers}"
   ]
  },
  {
   "cell_type": "code",
   "execution_count": null,
   "id": "ed308eba-7f76-4bc2-927a-917778e7f360",
   "metadata": {},
   "outputs": [],
   "source": [
    "for lineage in terminal_states:\n",
    "    print(lineage)\n",
    "    genes = gene_drivers[lineage].index\n",
    "    sc.pl.umap(adata_epi, color=genes[:40], save=f\"gene_lineage_drivers_{lineage}_{'_'.join(cluster)}.pdf\", layer='log_counts', ncols=8, cmap=my_cmap, vmax='p99') #, vmax='p95', vmin='p05',"
   ]
  },
  {
   "cell_type": "code",
   "execution_count": null,
   "id": "aca7f727-e44c-4405-88e6-0df8005bfffb",
   "metadata": {},
   "outputs": [],
   "source": [
    "epi_drivers.to_csv(os.path.join(fig_path, f\"jcf_epicardial_gene_drivers_{'_'.join(cluster)}.csv\"))"
   ]
  },
  {
   "cell_type": "code",
   "execution_count": null,
   "id": "86685960-3a84-4175-9754-9d43a4caa189",
   "metadata": {},
   "outputs": [],
   "source": [
    "fig_path"
   ]
  },
  {
   "cell_type": "code",
   "execution_count": null,
   "id": "8085992d-e3d3-47cc-aa2d-90d5fea60311",
   "metadata": {},
   "outputs": [],
   "source": [
    "cm_drivers.to_csv(os.path.join(fig_path, f\"jcf_cm_gene_drivers_{'_'.join(cluster)}.csv\"))"
   ]
  },
  {
   "cell_type": "markdown",
   "id": "4e22e1c4-4641-40ed-8284-e10c97160838",
   "metadata": {
    "jp-MarkdownHeadingCollapsed": true,
    "tags": []
   },
   "source": [
    "## Plot gene activity drivers"
   ]
  },
  {
   "cell_type": "code",
   "execution_count": null,
   "id": "b083d0c8-47a8-4553-b023-f24f0606ed72",
   "metadata": {},
   "outputs": [],
   "source": [
    "adata_act = get_act(adata, imputed=False, fill_value=0)"
   ]
  },
  {
   "cell_type": "code",
   "execution_count": null,
   "id": "7ee2c233-b7d0-4c0a-842d-5c5f45977615",
   "metadata": {},
   "outputs": [],
   "source": [
    "adata_act_epi = get_act(adata_epi, imputed=True, fill_value=0)"
   ]
  },
  {
   "cell_type": "code",
   "execution_count": null,
   "id": "ba424298-ed23-4f01-890f-676df62cb0e4",
   "metadata": {},
   "outputs": [],
   "source": [
    "g.adata = adata_act"
   ]
  },
  {
   "cell_type": "code",
   "execution_count": null,
   "id": "45206712-0803-4d48-a032-92111e09a513",
   "metadata": {},
   "outputs": [],
   "source": [
    "dfs = {}\n",
    "for lineage in terminal_states:\n",
    "    print(lineage)\n",
    "    df = g.compute_lineage_drivers(lineages=[lineage], cluster_key='leiden_res1', clusters=cluster, method='perm_test', n_jobs=-1)\n",
    "    genes = df.sort_values(f'{lineage}_corr', ascending=False).index\n",
    "    sc.pl.umap(adata_act_epi, color=genes[:12], save=f'gene_activity_drivers_{lineage}.pdf', cmap=my_cmap)\n",
    "    dfs.update({lineage: df})"
   ]
  },
  {
   "cell_type": "code",
   "execution_count": null,
   "id": "40d23af0-cd82-4955-b6cb-bd3784cd0d86",
   "metadata": {},
   "outputs": [],
   "source": [
    "epi_drivers_act = dfs['Epicardial'].dropna()\n",
    "epi_drivers_act = epi_drivers_act[epi_drivers_act['Epicardial_qval'] < 0.05].sort_values('Epicardial_corr', ascending=False)"
   ]
  },
  {
   "cell_type": "code",
   "execution_count": null,
   "id": "bbc93235-4f20-491f-8d82-a0eb127a6ffd",
   "metadata": {},
   "outputs": [],
   "source": [
    "cm_drivers_act = dfs['Cardiomyocyte'].dropna()\n",
    "cm_drivers_act = cm_drivers_act[cm_drivers_act['Cardiomyocyte_qval'] < 0.05].sort_values('Cardiomyocyte_corr', ascending=False)"
   ]
  },
  {
   "cell_type": "code",
   "execution_count": null,
   "id": "4871baca-f9a3-4f5d-8869-cc5fce2a0348",
   "metadata": {},
   "outputs": [],
   "source": [
    "epi_drivers_act.to_csv(os.path.join(fig_path, 'jcf_epicardial_gene_activity_drivers.csv'))"
   ]
  },
  {
   "cell_type": "code",
   "execution_count": null,
   "id": "036b37ac-f7f0-4f58-9fa8-a30eac9d8566",
   "metadata": {},
   "outputs": [],
   "source": [
    "cm_drivers_act.to_csv(os.path.join(fig_path, 'jcf_cm_gene_activity_drivers.csv'))"
   ]
  },
  {
   "cell_type": "markdown",
   "id": "3c2e80e6-813f-4b59-90a2-9f7973490430",
   "metadata": {
    "tags": []
   },
   "source": [
    "## Plot motif drivers"
   ]
  },
  {
   "cell_type": "code",
   "execution_count": null,
   "id": "3cfc4f58-f819-4b72-8b28-0ce4ddb84467",
   "metadata": {},
   "outputs": [],
   "source": [
    "def compute_correlation(i, X, Y):\n",
    "    return scipy.stats.spearmanr(X[:, i], Y)"
   ]
  },
  {
   "cell_type": "code",
   "execution_count": null,
   "id": "696c5ea2-f05b-486e-8abb-ce0efdbd575c",
   "metadata": {},
   "outputs": [],
   "source": [
    "from cellrank.tl._utils import _correlation_test\n",
    "from statsmodels.stats.multitest import multipletests"
   ]
  },
  {
   "cell_type": "markdown",
   "id": "2205142c-3545-4499-b7e1-3765f4f8e67e",
   "metadata": {},
   "source": [
    "### Motif drivers"
   ]
  },
  {
   "cell_type": "code",
   "execution_count": null,
   "id": "d03026cc-3f2b-4553-a769-97dec80c1ba2",
   "metadata": {},
   "outputs": [],
   "source": [
    "adata_chrom_epi = get_chromvar(adata_epi, fill_value=np.nan)"
   ]
  },
  {
   "cell_type": "code",
   "execution_count": null,
   "id": "422333c7-21f6-496e-b490-e0af947be505",
   "metadata": {},
   "outputs": [],
   "source": [
    "dfs = {}\n",
    "for lineage in terminal_states:\n",
    "    print(lineage)\n",
    "    X = adata_chrom_epi[(adata_chrom_epi.obs.atac_match==1) & adata_chrom_epi.obs.leiden_res1.isin(cluster)].X\n",
    "    Y = adata_chrom_epi[(adata_chrom_epi.obs.atac_match==1) & adata_chrom_epi.obs.leiden_res1.isin(cluster)].obsm['to_terminal_states'][lineage]\n",
    "    \n",
    "    df = _correlation_test(X=X, Y=Y, gene_names=adata_chrom_epi.var_names, method='perm_test', n_perms=1000, seed=1)\n",
    "    #pvals = [compute_correlation(i, X, Y) for i in np.arange(X.shape[1])]\n",
    "    #df = pd.DataFrame(pvals)\n",
    "    #df.columns = lineage + '_' + pd.Series(['corr', 'pval'])\n",
    "    #df[f\"{lineage}_qval\"] = multipletests(df[f\"{lineage}_pval\"], alpha=0.05, method=\"fdr_bh\")[1]\n",
    "    #df.index = adata_chrom_epi.var_names\n",
    "    dfs.update({lineage: df})"
   ]
  },
  {
   "cell_type": "code",
   "execution_count": null,
   "id": "f167176d-26ef-44b2-8b06-96fdbe4ca161",
   "metadata": {},
   "outputs": [],
   "source": [
    "epi_drivers_motif = dfs['Epicardial'].dropna()\n",
    "epi_drivers_motif = epi_drivers_motif[epi_drivers_motif['Epicardial_qval'] < 0.05].sort_values('Epicardial_corr', ascending=False)"
   ]
  },
  {
   "cell_type": "code",
   "execution_count": null,
   "id": "e715aa5e-7128-4d75-8f6e-c0d5624a8597",
   "metadata": {},
   "outputs": [],
   "source": [
    "cm_drivers_motif = dfs['Cardiomyocyte'].dropna()\n",
    "cm_drivers_motif = cm_drivers_motif[cm_drivers_motif['Cardiomyocyte_qval'] < 0.05].sort_values('Cardiomyocyte_corr', ascending=False)"
   ]
  },
  {
   "cell_type": "code",
   "execution_count": null,
   "id": "ca55e08b-1648-40d4-aff4-0535eb46b903",
   "metadata": {},
   "outputs": [],
   "source": [
    "motif_drivers = {'Epicardial': epi_drivers_motif, 'Cardiomyocyte': cm_drivers_motif}"
   ]
  },
  {
   "cell_type": "code",
   "execution_count": null,
   "id": "aa3719ef-f979-4cc6-b6c5-bc396b060bbf",
   "metadata": {},
   "outputs": [],
   "source": [
    "for lineage in terminal_states:\n",
    "    print(lineage)\n",
    "    genes = motif_drivers[lineage].index[:40]\n",
    "    sc.pl.umap(adata_chrom_epi, color=genes, save=f\"motif_lineage_drivers_{lineage}_{'_'.join(cluster)}.pdf\", vmax='p99', vmin='p01', ncols=8)\n",
    "    sc.pl.umap(adata_epi, color=genes[genes.isin(adata_epi.var_names)], save=f\"motif_lineage_drivers_gene_expression_{lineage}_{'_'.join(cluster)}.pdf\", ncols=8, cmap=my_cmap, layer='log_counts')"
   ]
  },
  {
   "cell_type": "code",
   "execution_count": null,
   "id": "a6a08479-5cf7-4428-888a-fccdb1df2e5f",
   "metadata": {},
   "outputs": [],
   "source": [
    "sc.pl.umap(adata, color='leiden_res1', legend_loc='on data')"
   ]
  },
  {
   "cell_type": "code",
   "execution_count": null,
   "id": "cc0766e1-8d9b-4636-8cb4-6f0b9f6a211b",
   "metadata": {},
   "outputs": [],
   "source": [
    "adata_cm = adata[~adata.obs.leiden_res1.isin(['2', '5', '21', '11', '13', '19', '23'])].copy()"
   ]
  },
  {
   "cell_type": "code",
   "execution_count": null,
   "id": "1b542557-8ffc-4462-b271-066e7c0c8b6d",
   "metadata": {},
   "outputs": [],
   "source": [
    "adata_chrom = get_chromvar(adata_cm, fill_value=np.nan)"
   ]
  },
  {
   "cell_type": "code",
   "execution_count": null,
   "id": "aa8c89c7-5751-4d94-ab28-b7a25bbee260",
   "metadata": {},
   "outputs": [],
   "source": [
    "for lineage in terminal_states:\n",
    "    print(lineage)\n",
    "    genes = motif_drivers[lineage].index[:40]\n",
    "    sc.pl.umap(adata_chrom, color=genes, vmax='p99', vmin='p01', ncols=8, save=f\"motif_lineage_drivers_{lineage}_full.pdf\")\n",
    "    sc.pl.umap(adata_cm, color=genes[genes.isin(adata_epi.var_names)], ncols=8, cmap=my_cmap, layer='log_counts', save=f\"motif_lineage_drivers_gene_expression_{lineage}_full.pdf\")"
   ]
  },
  {
   "cell_type": "code",
   "execution_count": null,
   "id": "5feacad6-9601-4de5-8613-608f335f5242",
   "metadata": {},
   "outputs": [],
   "source": [
    "for lineage in terminal_states:\n",
    "    print(lineage)\n",
    "    genes = gene_drivers[lineage].index\n",
    "    sc.pl.umap(adata_cm, color=genes[:40], layer='log_counts', ncols=8, cmap=my_cmap, vmax='p99', save=f\"gene_lineage_drivers_{lineage}_full.pdf\") #, vmax='p95', vmin='p05',"
   ]
  },
  {
   "cell_type": "code",
   "execution_count": null,
   "id": "341956dd-4b13-45da-8b7d-5e15cc7ddfbc",
   "metadata": {},
   "outputs": [],
   "source": [
    "epi_drivers_motif.to_csv(os.path.join(fig_path, f\"jcf_epicardial_motif_drivers_{'_'.join(cluster)}.csv\"))"
   ]
  },
  {
   "cell_type": "code",
   "execution_count": null,
   "id": "a91b921a-ff33-43a2-8ebe-cd4de9113f8c",
   "metadata": {},
   "outputs": [],
   "source": [
    "cm_drivers_motif.to_csv(os.path.join(fig_path, f\"jcf_cm_motif_drivers_{'_'.join(cluster)}.csv\"))"
   ]
  },
  {
   "cell_type": "markdown",
   "id": "8798bcfd-39fd-4f02-868f-fff3484ff77e",
   "metadata": {
    "tags": []
   },
   "source": [
    "## Plot TFAP2A"
   ]
  },
  {
   "cell_type": "code",
   "execution_count": null,
   "id": "f37d4087-9183-49d0-a189-5fa32bde425e",
   "metadata": {},
   "outputs": [],
   "source": [
    "sc.pl.umap(adata_chrom_epi, color=['TFAP2A', 'TFAP2A(var.2)', 'TFAP2A(var.3)', 'MEIS1', 'MEIS2'], vmax='p90', vmin='p10')"
   ]
  },
  {
   "cell_type": "code",
   "execution_count": null,
   "id": "65564a76-ebe0-489d-84c2-3e50fa0b13e7",
   "metadata": {},
   "outputs": [],
   "source": [
    "from sklearn.cluster import KMeans\n",
    "# extract pca coordinates\n",
    "absorption_prob = adata_14.obs.loc[:, ['Cardiomyocyte']].values.reshape(-1, 1)\n",
    "\n",
    "# kmeans with k=5\n",
    "kmeans = KMeans(n_clusters=2, random_state=0).fit(absorption_prob) \n",
    "adata_14.obs['kmeans'] = kmeans.labels_.astype(str)\n",
    "adata_14.obs['cluster'] = adata_14.obs['kmeans'].map({'0': 'CM', '1': 'Epi'})\n",
    "sc.pl.umap(adata_14, color=['cluster'])"
   ]
  },
  {
   "cell_type": "code",
   "execution_count": null,
   "id": "b1d41522-a307-4fc3-9fe3-a5df11315117",
   "metadata": {},
   "outputs": [],
   "source": [
    "4"
   ]
  },
  {
   "cell_type": "markdown",
   "id": "6f434057-c950-4364-8a8d-b304575ca70e",
   "metadata": {},
   "source": [
    "### Save as table"
   ]
  },
  {
   "cell_type": "code",
   "execution_count": null,
   "id": "04038b8d-588b-4c52-a381-5b6ba45676e4",
   "metadata": {},
   "outputs": [],
   "source": []
  },
  {
   "cell_type": "code",
   "execution_count": null,
   "id": "00b55ce2-827a-46ef-a03b-20d7f0f132c1",
   "metadata": {},
   "outputs": [],
   "source": [
    "adata_14_chrom = get_chromvar(adata_14, fill_value=np.nan)"
   ]
  },
  {
   "cell_type": "code",
   "execution_count": null,
   "id": "644d06a6-8299-45c9-99ce-22e379aae046",
   "metadata": {},
   "outputs": [],
   "source": [
    "adata_14_act = get_act(adata_14, fill_value=0, imputed=True)"
   ]
  },
  {
   "cell_type": "code",
   "execution_count": null,
   "id": "6158bd95-b55f-422c-a686-10bc6c26c736",
   "metadata": {},
   "outputs": [],
   "source": [
    "#sc.tl.rank_genes_groups(adata_14, groupby='High epi', method='wilcoxon', layer='log_counts')\n",
    "sc.tl.rank_genes_groups(adata_14_chrom, groupby='kmeans', method='wilcoxon')"
   ]
  },
  {
   "cell_type": "code",
   "execution_count": null,
   "id": "27a7c7fe-2b7f-42f5-9922-3291c0c90626",
   "metadata": {},
   "outputs": [],
   "source": [
    "sc.pl.rank_genes_groups(adata_14_chrom, n_genes=30, sharey=False)"
   ]
  },
  {
   "cell_type": "code",
   "execution_count": null,
   "id": "0b9bb725-5e55-487a-8eaf-c5530e470041",
   "metadata": {},
   "outputs": [],
   "source": [
    "sc.tl.rank_genes_groups(adata_14, groupby='kmeans', method='wilcoxon')\n",
    "sc.pl.rank_genes_groups(adata_14, n_genes=30, sharey=False)"
   ]
  },
  {
   "cell_type": "code",
   "execution_count": null,
   "id": "972dca2b-732b-4f1f-b207-799cc1f08cab",
   "metadata": {},
   "outputs": [],
   "source": [
    "motifs = pd.DataFrame(adata_14_chrom.uns['rank_genes_groups']['names']).head(40)\n",
    "genes = pd.DataFrame(adata_14.uns['rank_genes_groups']['names']).head(40)"
   ]
  },
  {
   "cell_type": "code",
   "execution_count": null,
   "id": "fbc817ea-98b5-4d6a-9495-1c708a0d2c89",
   "metadata": {},
   "outputs": [],
   "source": [
    "motif_drivers_de = {'Epicardial': motifs['1'].values, 'Cardiomyocyte': motifs['0'].values}\n",
    "gene_drivers_de = {'Epicardial': genes['1'].values, 'Cardiomyocyte': genes['0'].values}"
   ]
  },
  {
   "cell_type": "code",
   "execution_count": null,
   "id": "fa86a79d-11c7-4e99-b5e5-fcc221ab850f",
   "metadata": {},
   "outputs": [],
   "source": [
    "for lineage in terminal_states:\n",
    "    print(lineage)\n",
    "    genes = motif_drivers_de[lineage]\n",
    "    sc.pl.umap(adata_chrom_epi, color=genes, vmax='p99', vmin='p01', ncols=8)\n",
    "    sc.pl.umap(adata_epi, color=genes[pd.Series(genes).isin(adata_epi.var_names)], ncols=8, cmap=my_cmap, layer='log_counts')\n",
    "    sc.pl.umap(adata_chrom, color=genes, ncols=8,vmax='p99', vmin='p01')\n",
    "    sc.pl.umap(adata_cm, color=genes[pd.Series(genes).isin(adata_epi.var_names)], ncols=8, cmap=my_cmap, layer='log_counts')"
   ]
  },
  {
   "cell_type": "code",
   "execution_count": null,
   "id": "edddb354-2d40-4e2b-ac94-cfc407d90a9e",
   "metadata": {},
   "outputs": [],
   "source": [
    "for lineage in terminal_states:\n",
    "    print(lineage)\n",
    "    genes = gene_drivers[lineage]\n",
    "    sc.pl.umap(adata_epi, color=genes[pd.Series(genes).isin(adata_epi.var_names)], ncols=8, cmap=my_cmap, layer='log_counts')\n",
    "    sc.pl.umap(adata, color=genes[pd.Series(genes).isin(adata_epi.var_names)], ncols=8, cmap=my_cmap, layer='log_counts')"
   ]
  },
  {
   "cell_type": "markdown",
   "id": "e18d50bf-0f8b-43fb-8b04-929c1f7a2e96",
   "metadata": {},
   "source": [
    "## Find overlap"
   ]
  },
  {
   "cell_type": "code",
   "execution_count": null,
   "id": "93bec8e5-b692-4542-951e-46dbccc0185a",
   "metadata": {},
   "outputs": [],
   "source": [
    "motif_drivers['Cardiomyocyte'].head(40)[motif_drivers['Cardiomyocyte'].head(40).index.isin(motif_drivers_de['Cardiomyocyte'])].index.to_list()"
   ]
  },
  {
   "cell_type": "code",
   "execution_count": null,
   "id": "e88e5398-ff67-4619-bef7-cc98c21c39af",
   "metadata": {},
   "outputs": [],
   "source": [
    "gene_drivers_de['Cardiomyocyte'][~pd.Series(gene_drivers_de['Cardiomyocyte']).isin(gene_drivers['Cardiomyocyte'].head(40).index)]"
   ]
  },
  {
   "cell_type": "code",
   "execution_count": null,
   "id": "d492c4cf-413f-4509-81c4-15f099d79ebf",
   "metadata": {},
   "outputs": [],
   "source": [
    "motif_drivers_de['Cardiomyocyte'][~pd.Series(motif_drivers_de['Cardiomyocyte']).isin(motif_drivers['Cardiomyocyte'].head(40).index)]"
   ]
  },
  {
   "cell_type": "code",
   "execution_count": null,
   "id": "ed48d386-6ae3-4911-b35e-967839f262b2",
   "metadata": {},
   "outputs": [],
   "source": [
    "motif_drivers['Epicardial'].head(40)[motif_drivers['Epicardial'].head(40).index.isin(motif_drivers_de['Epicardial'])].index.to_list()"
   ]
  },
  {
   "cell_type": "code",
   "execution_count": null,
   "id": "e81429cb-c91c-4e7d-9d93-f0d63b189945",
   "metadata": {},
   "outputs": [],
   "source": [
    "gene_drivers['Epicardial'].head(40)[gene_drivers['Epicardial'].head(40).index.isin(gene_drivers_de['Epicardial'])].shape"
   ]
  },
  {
   "cell_type": "markdown",
   "id": "728aac50-a2b9-46cd-858a-ef20e2fa36d8",
   "metadata": {
    "tags": []
   },
   "source": [
    "## Epicardial"
   ]
  },
  {
   "cell_type": "code",
   "execution_count": null,
   "id": "8f2591ae-902a-44a9-b37a-37d0fd38faba",
   "metadata": {},
   "outputs": [],
   "source": [
    "cluster = ['14']"
   ]
  },
  {
   "cell_type": "code",
   "execution_count": null,
   "id": "fe88bb4c-1611-4bff-a5b0-39c5cc557d0e",
   "metadata": {},
   "outputs": [],
   "source": [
    "epi_drivers_motif = pd.read_csv(os.path.join(fig_path, f\"jcf_epicardial_motif_drivers_{'_'.join(cluster)}.csv\"), index_col=0)"
   ]
  },
  {
   "cell_type": "code",
   "execution_count": null,
   "id": "e3b424d5-5d8d-4ef0-9b45-bbffdacc9e2d",
   "metadata": {},
   "outputs": [],
   "source": [
    "cluster = ['14', '12']"
   ]
  },
  {
   "cell_type": "code",
   "execution_count": null,
   "id": "0b638415-5a5f-490f-92c9-4f52d63f30df",
   "metadata": {},
   "outputs": [],
   "source": [
    "epi_drivers_motif_2 = pd.read_csv(os.path.join(fig_path, f\"jcf_epicardial_motif_drivers_{'_'.join(cluster)}.csv\"), index_col=0)"
   ]
  },
  {
   "cell_type": "code",
   "execution_count": null,
   "id": "c846912b-faf2-46ca-93d4-9bb9870d016e",
   "metadata": {},
   "outputs": [],
   "source": [
    "epi_drivers_motif.head(20).index[~epi_drivers_motif.head(20).index.isin(epi_drivers_motif_2.head(20).index)]"
   ]
  },
  {
   "cell_type": "code",
   "execution_count": null,
   "id": "4764df87-72af-42c7-9a1a-23f28c55db72",
   "metadata": {},
   "outputs": [],
   "source": [
    "# All the same"
   ]
  },
  {
   "cell_type": "code",
   "execution_count": null,
   "id": "3bad3b3e-9814-4c16-bde1-bb80b3b2454b",
   "metadata": {},
   "outputs": [],
   "source": [
    "cluster = ['14']"
   ]
  },
  {
   "cell_type": "code",
   "execution_count": null,
   "id": "c7791147-d99e-4edc-8179-becfae4197c8",
   "metadata": {},
   "outputs": [],
   "source": [
    "drivers_motif = pd.read_csv(os.path.join(fig_path, f\"jcf_cm_motif_drivers_{'_'.join(cluster)}.csv\"), index_col=0)"
   ]
  },
  {
   "cell_type": "code",
   "execution_count": null,
   "id": "9c8f3fc2-498d-43d4-adf6-4d4c1b8edfef",
   "metadata": {},
   "outputs": [],
   "source": [
    "cluster = ['12', '14']"
   ]
  },
  {
   "cell_type": "code",
   "execution_count": null,
   "id": "4a4a23c9-905b-4f80-92b2-22e3445be0ce",
   "metadata": {},
   "outputs": [],
   "source": [
    "drivers_motif_2 = pd.read_csv(os.path.join(fig_path, f\"jcf_cm_motif_drivers_{'_'.join(cluster)}.csv\"), index_col=0)"
   ]
  },
  {
   "cell_type": "code",
   "execution_count": null,
   "id": "bf1eb5dc-828d-47b3-bb23-734a3461aaa9",
   "metadata": {},
   "outputs": [],
   "source": [
    "drivers_motif_2.head(20).index[~drivers_motif_2.head(20).index.isin(drivers_motif.head(20).index)]"
   ]
  },
  {
   "cell_type": "code",
   "execution_count": null,
   "id": "66c70431-fe64-4c43-80ef-f0501756450c",
   "metadata": {},
   "outputs": [],
   "source": [
    "cluster = ['14']"
   ]
  },
  {
   "cell_type": "code",
   "execution_count": null,
   "id": "603d09e5-96e4-4615-804c-24ada48995d9",
   "metadata": {},
   "outputs": [],
   "source": [
    "drivers_motif = pd.read_csv(os.path.join(fig_path, f\"jcf_epicardial_gene_drivers_{'_'.join(cluster)}.csv\"), index_col=0)"
   ]
  },
  {
   "cell_type": "code",
   "execution_count": null,
   "id": "858557d2-d6a0-4c4a-b775-5f64b81fc689",
   "metadata": {},
   "outputs": [],
   "source": [
    "drivers_motif.head(100).index.isin(epi_drivers_motif.head(100).index)"
   ]
  },
  {
   "cell_type": "code",
   "execution_count": null,
   "id": "db00e94c-154c-4ee0-a9a0-484e6afdf929",
   "metadata": {},
   "outputs": [],
   "source": [
    "cluster = ['14']"
   ]
  },
  {
   "cell_type": "code",
   "execution_count": null,
   "id": "c54d761b-1a4a-4787-93c2-4ded33974216",
   "metadata": {},
   "outputs": [],
   "source": [
    "drivers_motif_2 = pd.read_csv(os.path.join(fig_path, f\"jcf_cm_gene_drivers_{'_'.join(cluster)}.csv\"), index_col=0)"
   ]
  },
  {
   "cell_type": "code",
   "execution_count": null,
   "id": "27773286-b374-482e-91c7-e5d0aac28f8c",
   "metadata": {},
   "outputs": [],
   "source": [
    "drivers_motif.head(100).index.isin(drivers_motif_2.head(100).index)"
   ]
  },
  {
   "cell_type": "code",
   "execution_count": null,
   "id": "a8fe5d7f-c879-46fd-9ff7-86930806281a",
   "metadata": {},
   "outputs": [],
   "source": [
    "drivers_motif_2.head(20).index[~drivers_motif_2.head(20).index.isin(drivers_motif.head(20).index)]"
   ]
  },
  {
   "cell_type": "code",
   "execution_count": null,
   "id": "46b53a1a-d844-4edf-b1b2-ecd1fd58b63e",
   "metadata": {},
   "outputs": [],
   "source": [
    "drivers_motif.head(20).index[~drivers_motif.head(20).index.isin(drivers_motif_2.head(20).index)]"
   ]
  }
 ],
 "metadata": {
  "kernelspec": {
   "display_name": "Python 3 (ipykernel)",
   "language": "python",
   "name": "python3"
  },
  "language_info": {
   "codemirror_mode": {
    "name": "ipython",
    "version": 3
   },
   "file_extension": ".py",
   "mimetype": "text/x-python",
   "name": "python",
   "nbconvert_exporter": "python",
   "pygments_lexer": "ipython3",
   "version": "3.9.0"
  }
 },
 "nbformat": 4,
 "nbformat_minor": 5
}
