{
 "cells": [
  {
   "cell_type": "markdown",
   "id": "1be82a4b-edcf-443c-bc29-dc0e9645231f",
   "metadata": {},
   "source": [
    "# Impute gene activity weights using magic"
   ]
  },
  {
   "cell_type": "code",
   "execution_count": 3,
   "id": "5ffc544e-08f5-4698-b6f8-bd1f8877c71d",
   "metadata": {
    "ExecuteTime": {
     "end_time": "2021-04-16T14:32:10.128265Z",
     "start_time": "2021-04-16T14:32:10.110030Z"
    }
   },
   "outputs": [
    {
     "name": "stdout",
     "output_type": "stream",
     "text": [
      "The autoreload extension is already loaded. To reload it, use:\n",
      "  %reload_ext autoreload\n"
     ]
    }
   ],
   "source": [
    "%load_ext autoreload\n",
    "%autoreload 2"
   ]
  },
  {
   "cell_type": "markdown",
   "id": "e42ac590-6d3b-413c-8522-c93e38c9f110",
   "metadata": {},
   "source": [
    "Import packages"
   ]
  },
  {
   "cell_type": "code",
   "execution_count": 5,
   "id": "ed39b37e-ec5b-44e8-b7fa-e8fb26d63754",
   "metadata": {},
   "outputs": [],
   "source": [
    "import anndata as ad\n",
    "import scanpy as sc\n",
    "import os\n",
    "import seaborn as sns\n",
    "import numpy as np\n",
    "import pandas as pd\n",
    "import matplotlib.pyplot as plt\n",
    "\n",
    "import scvelo as scv"
   ]
  },
  {
   "cell_type": "code",
   "execution_count": 6,
   "id": "cf34311e-647a-447c-8f0c-5693bf2d82c3",
   "metadata": {},
   "outputs": [],
   "source": [
    "import graphtools\n",
    "import magic"
   ]
  },
  {
   "cell_type": "code",
   "execution_count": 7,
   "id": "cc223464-481a-493b-9186-0095d4828b3b",
   "metadata": {},
   "outputs": [],
   "source": [
    "scv.set_figure_params()\n",
    "sc.settings.set_figure_params(dpi=100, facecolor='white', frameon=False)"
   ]
  },
  {
   "cell_type": "code",
   "execution_count": 8,
   "id": "c33c2cfe-352a-4208-9926-35ac8ec73af1",
   "metadata": {},
   "outputs": [],
   "source": [
    "from utils import *"
   ]
  },
  {
   "cell_type": "code",
   "execution_count": 9,
   "id": "26a0e320-86a0-4b35-b065-181aa629a8ff",
   "metadata": {},
   "outputs": [],
   "source": [
    "my_cmap = get_continuous_cmap(['D6D6D6', '5D4FF4'])"
   ]
  },
  {
   "cell_type": "markdown",
   "id": "d58fa097-ff1f-471a-9d18-dd45085521fe",
   "metadata": {},
   "source": [
    "## Setup paths"
   ]
  },
  {
   "cell_type": "code",
   "execution_count": 10,
   "id": "28e62b9f-ff44-415f-a8a6-e50d2686a47c",
   "metadata": {},
   "outputs": [],
   "source": [
    "data_path = '/lustre/groups/ml01/workspace/laura.martens/moretti_colab'\n",
    "save_path = os.path.join(data_path, 'biological_analysis')\n",
    "scvelo_path = os.path.join(data_path, 'scvelo')"
   ]
  },
  {
   "cell_type": "code",
   "execution_count": 11,
   "id": "131101dd-f49a-4cd1-a7a2-10060eeaf86f",
   "metadata": {},
   "outputs": [],
   "source": [
    "fig_path = '/lustre/groups/ml01/workspace/laura.martens/moretti_colab/panels'\n",
    "fig_path = os.path.join(fig_path, 'epicardial')\n",
    "sc.settings.figdir = fig_path"
   ]
  },
  {
   "cell_type": "markdown",
   "id": "2517ac65-45c9-407d-a518-e70184d5a8e6",
   "metadata": {},
   "source": [
    "# Load data"
   ]
  },
  {
   "cell_type": "code",
   "execution_count": 12,
   "id": "237db8a9-12dd-4829-99aa-06312c5a9013",
   "metadata": {},
   "outputs": [],
   "source": [
    "adata = sc.read('/lustre/groups/ml01/workspace/laura.martens/moretti_colab/scglue/metacells.h5ad')"
   ]
  },
  {
   "cell_type": "code",
   "execution_count": 13,
   "id": "aca7b05a-7570-4485-a834-08ebf475b8b5",
   "metadata": {},
   "outputs": [],
   "source": [
    "gene_act = get_act(adata)"
   ]
  },
  {
   "cell_type": "code",
   "execution_count": 14,
   "id": "c4abd35b-5ba9-4257-a4e2-d3a46380d2c4",
   "metadata": {},
   "outputs": [],
   "source": [
    "act_mat = pd.DataFrame(gene_act.X.A, index=gene_act.obs_names.values, columns=gene_act.var_names.values)"
   ]
  },
  {
   "cell_type": "code",
   "execution_count": 15,
   "id": "63405eeb-558c-4d5c-ad38-d897ef91153a",
   "metadata": {},
   "outputs": [],
   "source": [
    "act_mat = act_mat.fillna(0)"
   ]
  },
  {
   "cell_type": "markdown",
   "id": "92afbe24-e43c-4d62-84cb-abb87f6fd6c6",
   "metadata": {},
   "source": [
    "# Run magic on gene activities"
   ]
  },
  {
   "cell_type": "code",
   "execution_count": 54,
   "id": "1146d2ec-ea92-4986-91b8-b7fdc88d109c",
   "metadata": {},
   "outputs": [],
   "source": [
    "magic_op = magic.MAGIC(knn=4, n_jobs=8)"
   ]
  },
  {
   "cell_type": "code",
   "execution_count": 55,
   "id": "990228c4-4af1-4027-b485-4362860c1eb7",
   "metadata": {},
   "outputs": [
    {
     "data": {
      "text/html": [
       "<style>#sk-container-id-4 {color: black;background-color: white;}#sk-container-id-4 pre{padding: 0;}#sk-container-id-4 div.sk-toggleable {background-color: white;}#sk-container-id-4 label.sk-toggleable__label {cursor: pointer;display: block;width: 100%;margin-bottom: 0;padding: 0.3em;box-sizing: border-box;text-align: center;}#sk-container-id-4 label.sk-toggleable__label-arrow:before {content: \"▸\";float: left;margin-right: 0.25em;color: #696969;}#sk-container-id-4 label.sk-toggleable__label-arrow:hover:before {color: black;}#sk-container-id-4 div.sk-estimator:hover label.sk-toggleable__label-arrow:before {color: black;}#sk-container-id-4 div.sk-toggleable__content {max-height: 0;max-width: 0;overflow: hidden;text-align: left;background-color: #f0f8ff;}#sk-container-id-4 div.sk-toggleable__content pre {margin: 0.2em;color: black;border-radius: 0.25em;background-color: #f0f8ff;}#sk-container-id-4 input.sk-toggleable__control:checked~div.sk-toggleable__content {max-height: 200px;max-width: 100%;overflow: auto;}#sk-container-id-4 input.sk-toggleable__control:checked~label.sk-toggleable__label-arrow:before {content: \"▾\";}#sk-container-id-4 div.sk-estimator input.sk-toggleable__control:checked~label.sk-toggleable__label {background-color: #d4ebff;}#sk-container-id-4 div.sk-label input.sk-toggleable__control:checked~label.sk-toggleable__label {background-color: #d4ebff;}#sk-container-id-4 input.sk-hidden--visually {border: 0;clip: rect(1px 1px 1px 1px);clip: rect(1px, 1px, 1px, 1px);height: 1px;margin: -1px;overflow: hidden;padding: 0;position: absolute;width: 1px;}#sk-container-id-4 div.sk-estimator {font-family: monospace;background-color: #f0f8ff;border: 1px dotted black;border-radius: 0.25em;box-sizing: border-box;margin-bottom: 0.5em;}#sk-container-id-4 div.sk-estimator:hover {background-color: #d4ebff;}#sk-container-id-4 div.sk-parallel-item::after {content: \"\";width: 100%;border-bottom: 1px solid gray;flex-grow: 1;}#sk-container-id-4 div.sk-label:hover label.sk-toggleable__label {background-color: #d4ebff;}#sk-container-id-4 div.sk-serial::before {content: \"\";position: absolute;border-left: 1px solid gray;box-sizing: border-box;top: 0;bottom: 0;left: 50%;z-index: 0;}#sk-container-id-4 div.sk-serial {display: flex;flex-direction: column;align-items: center;background-color: white;padding-right: 0.2em;padding-left: 0.2em;position: relative;}#sk-container-id-4 div.sk-item {position: relative;z-index: 1;}#sk-container-id-4 div.sk-parallel {display: flex;align-items: stretch;justify-content: center;background-color: white;position: relative;}#sk-container-id-4 div.sk-item::before, #sk-container-id-4 div.sk-parallel-item::before {content: \"\";position: absolute;border-left: 1px solid gray;box-sizing: border-box;top: 0;bottom: 0;left: 50%;z-index: -1;}#sk-container-id-4 div.sk-parallel-item {display: flex;flex-direction: column;z-index: 1;position: relative;background-color: white;}#sk-container-id-4 div.sk-parallel-item:first-child::after {align-self: flex-end;width: 50%;}#sk-container-id-4 div.sk-parallel-item:last-child::after {align-self: flex-start;width: 50%;}#sk-container-id-4 div.sk-parallel-item:only-child::after {width: 0;}#sk-container-id-4 div.sk-dashed-wrapped {border: 1px dashed gray;margin: 0 0.4em 0.5em 0.4em;box-sizing: border-box;padding-bottom: 0.4em;background-color: white;}#sk-container-id-4 div.sk-label label {font-family: monospace;font-weight: bold;display: inline-block;line-height: 1.2em;}#sk-container-id-4 div.sk-label-container {text-align: center;}#sk-container-id-4 div.sk-container {/* jupyter's `normalize.less` sets `[hidden] { display: none; }` but bootstrap.min.css set `[hidden] { display: none !important; }` so we also need the `!important` here to be able to override the default hidden behavior on the sphinx rendered scikit-learn.org. See: https://github.com/scikit-learn/scikit-learn/issues/21755 */display: inline-block !important;position: relative;}#sk-container-id-4 div.sk-text-repr-fallback {display: none;}</style><div id=\"sk-container-id-4\" class=\"sk-top-container\"><div class=\"sk-text-repr-fallback\"><pre>MAGIC(knn=4, knn_max=12, n_jobs=8)</pre><b>In a Jupyter environment, please rerun this cell to show the HTML representation or trust the notebook. <br />On GitHub, the HTML representation is unable to render, please try loading this page with nbviewer.org.</b></div><div class=\"sk-container\" hidden><div class=\"sk-item\"><div class=\"sk-estimator sk-toggleable\"><input class=\"sk-toggleable__control sk-hidden--visually\" id=\"sk-estimator-id-4\" type=\"checkbox\" checked><label for=\"sk-estimator-id-4\" class=\"sk-toggleable__label sk-toggleable__label-arrow\">MAGIC</label><div class=\"sk-toggleable__content\"><pre>MAGIC(knn=4, knn_max=12, n_jobs=8)</pre></div></div></div></div></div>"
      ],
      "text/plain": [
       "MAGIC(knn=4, knn_max=12, n_jobs=8)"
      ]
     },
     "execution_count": 55,
     "metadata": {},
     "output_type": "execute_result"
    }
   ],
   "source": [
    "magic_op"
   ]
  },
  {
   "cell_type": "code",
   "execution_count": 20,
   "id": "fa30173e-e110-475e-b48b-c22a4cea6dc5",
   "metadata": {},
   "outputs": [],
   "source": [
    "g = graphtools.Graph(data=gene_act.obsm['X_glue'], knn=15, knn_max=15, decay=1, thresh=1e-4)"
   ]
  },
  {
   "cell_type": "code",
   "execution_count": 21,
   "id": "6a0c0a76-76f8-4eb2-9cc1-7ff93bd7e5a5",
   "metadata": {},
   "outputs": [],
   "source": [
    "g.data = act_mat.values"
   ]
  },
  {
   "cell_type": "code",
   "execution_count": 58,
   "id": "7899bbae-a41c-4873-ba7e-2de2238b8b70",
   "metadata": {},
   "outputs": [
    {
     "name": "stdout",
     "output_type": "stream",
     "text": [
      "Calculating MAGIC...\n",
      "  Running MAGIC on 35499 cells and 20010 genes.\n",
      "  Using precomputed graph and diffusion operator...\n",
      "  Running MAGIC with `solver='exact'` on 20010-dimensional data may take a long time. Consider denoising specific genes with `genes=<list-like>` or using `solver='approximate'`.\n",
      "  Calculating imputation...\n",
      "  Calculated imputation in 68.75 seconds.\n",
      "Calculated MAGIC in 119.05 seconds.\n"
     ]
    }
   ],
   "source": [
    "imputed = magic_op.fit_transform(act_mat, genes=act_mat.columns.to_list(), graph=g)"
   ]
  },
  {
   "cell_type": "code",
   "execution_count": null,
   "id": "d64cc33d-a7f7-4c77-9c7b-fd0f8c926273",
   "metadata": {},
   "outputs": [],
   "source": [
    "adata.obsm['activities_imputed'] = imputed.values"
   ]
  },
  {
   "cell_type": "code",
   "execution_count": 65,
   "id": "874f27bd-c26f-461e-9044-05424c1c0a51",
   "metadata": {},
   "outputs": [],
   "source": [
    "adata.write('/lustre/groups/ml01/workspace/laura.martens/moretti_colab/scglue/metacells_imputed.h5ad')"
   ]
  },
  {
   "cell_type": "code",
   "execution_count": null,
   "id": "69dc01e3-c691-4059-994a-7fccba68e908",
   "metadata": {},
   "outputs": [],
   "source": []
  }
 ],
 "metadata": {
  "kernelspec": {
   "display_name": "Python 3 (ipykernel)",
   "language": "python",
   "name": "python3"
  },
  "language_info": {
   "codemirror_mode": {
    "name": "ipython",
    "version": 3
   },
   "file_extension": ".py",
   "mimetype": "text/x-python",
   "name": "python",
   "nbconvert_exporter": "python",
   "pygments_lexer": "ipython3",
   "version": "3.9.0"
  }
 },
 "nbformat": 4,
 "nbformat_minor": 5
}
