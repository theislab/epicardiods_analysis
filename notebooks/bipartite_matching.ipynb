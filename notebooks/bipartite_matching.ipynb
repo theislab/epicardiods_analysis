{
 "cells": [
  {
   "cell_type": "code",
   "execution_count": 3,
   "id": "5033ffae-5b2b-4134-b768-6c545422af86",
   "metadata": {},
   "outputs": [],
   "source": [
    "import scanpy as sc\n",
    "import sys\n",
    "import pandas as pd\n",
    "import numpy as np"
   ]
  },
  {
   "cell_type": "code",
   "execution_count": 4,
   "id": "7e122c06-0b5d-4679-8db2-6e74b4a11987",
   "metadata": {},
   "outputs": [],
   "source": [
    "sys.path.append('/home/icb/laura.martens/organoid_regulomes/integration/')"
   ]
  },
  {
   "cell_type": "code",
   "execution_count": 5,
   "id": "18758e30-c946-400b-9d5f-f667fdb57d78",
   "metadata": {},
   "outputs": [],
   "source": [
    "from matching import get_cost_knn_graph, mcmf"
   ]
  },
  {
   "cell_type": "code",
   "execution_count": 6,
   "id": "0ec98cd3-eacd-4ace-a222-42ed68fe522d",
   "metadata": {},
   "outputs": [],
   "source": [
    "adata = sc.read('/lustre/groups/ml01/workspace/laura.martens/moretti_colab/signac/adata_xglue_embedding.h5ad', sparse=False, X_name=\"matrix\")"
   ]
  },
  {
   "cell_type": "code",
   "execution_count": 7,
   "id": "da9be4ac-e0e1-4ed5-90e2-699bf25279d7",
   "metadata": {},
   "outputs": [
    {
     "data": {
      "text/plain": [
       "AnnData object with n_obs × n_vars = 62526 × 50\n",
       "    obs: 'clusters', 'day', 'tech'"
      ]
     },
     "execution_count": 7,
     "metadata": {},
     "output_type": "execute_result"
    }
   ],
   "source": [
    "adata"
   ]
  },
  {
   "cell_type": "code",
   "execution_count": 8,
   "id": "192e7489-9d36-464c-9c04-e010af5edc2f",
   "metadata": {},
   "outputs": [
    {
     "name": "stdout",
     "output_type": "stream",
     "text": [
      "Splitting groups.\n"
     ]
    }
   ],
   "source": [
    "try:\n",
    "    embed_mat = pd.DataFrame(adata.X.todense())\n",
    "except:\n",
    "    embed_mat = pd.DataFrame(adata.X)\n",
    "embed_mat.columns = list(adata.var.index.values)\n",
    "embed_mat.index = list(adata.obs.index.values)\n",
    "\n",
    "sys.stdout.write('Splitting groups.\\n')\n",
    "# Get column to split by\n",
    "split_vals = adata.obs.loc[:, \"tech\"]\n",
    "# Get larger group\n",
    "group1_name = split_vals.value_counts().idxmax()\n",
    "group2_name = split_vals[split_vals!=group1_name].unique()[0]\n",
    "\n",
    "# Split groups\n",
    "group1 = embed_mat[split_vals==group1_name]\n",
    "group2 = embed_mat[split_vals!=group1_name]"
   ]
  },
  {
   "cell_type": "code",
   "execution_count": 39,
   "id": "39b43ac5-813d-4eb1-899d-3b8fa59e1b45",
   "metadata": {},
   "outputs": [
    {
     "name": "stdout",
     "output_type": "stream",
     "text": [
      "Computing digraph.\n",
      "Max dist:  517\n",
      "Number of nodes:  62528\n",
      "Number of edges:  1036249\n"
     ]
    }
   ],
   "source": [
    "sys.stdout.write('Computing digraph.\\n')\n",
    "# Calculate cost graph\n",
    "cost_graph = get_cost_knn_graph(\n",
    "    source = group1,\n",
    "    target = group2,\n",
    "    knn_k = 20,\n",
    "    knn_n_jobs = 1,\n",
    "    null_cost_percentile = 99,\n",
    "    capacity_method = \"uniform\",\n",
    "    add_null=False\n",
    ")"
   ]
  },
  {
   "cell_type": "code",
   "execution_count": 40,
   "id": "38f641c2-b254-4ca1-b46c-80ab65688d90",
   "metadata": {},
   "outputs": [
    {
     "name": "stdout",
     "output_type": "stream",
     "text": [
      "Finding optimal matches.\n",
      "MCMF took [s]: 1173.373453853\n"
     ]
    }
   ],
   "source": [
    "sys.stdout.write('Finding optimal matches.\\n')\n",
    "# Find bipartite matches\n",
    "g1_idx, g2_idx = mcmf(cost_graph)"
   ]
  },
  {
   "cell_type": "code",
   "execution_count": 44,
   "id": "fb52a433-75b7-4ba1-ae02-041275380f70",
   "metadata": {},
   "outputs": [
    {
     "data": {
      "text/plain": [
       "31244"
      ]
     },
     "execution_count": 44,
     "metadata": {},
     "output_type": "execute_result"
    }
   ],
   "source": [
    "len(g1_idx)"
   ]
  },
  {
   "cell_type": "code",
   "execution_count": 45,
   "id": "16e6d97c-ba71-4638-8bdb-9db4dff50be2",
   "metadata": {},
   "outputs": [
    {
     "data": {
      "text/plain": [
       "31244"
      ]
     },
     "execution_count": 45,
     "metadata": {},
     "output_type": "execute_result"
    }
   ],
   "source": [
    "len(g2_idx)"
   ]
  },
  {
   "cell_type": "code",
   "execution_count": 47,
   "id": "2eeb5bcc-17f3-4e58-93b8-fde0cca1eedc",
   "metadata": {},
   "outputs": [],
   "source": [
    "any_nans = (np.isnan(g1_idx) | np.isnan(g2_idx))"
   ]
  },
  {
   "cell_type": "code",
   "execution_count": 60,
   "id": "e2a3d344-5692-4d48-9225-0b7ac0028dbb",
   "metadata": {},
   "outputs": [
    {
     "data": {
      "text/plain": [
       "0"
      ]
     },
     "execution_count": 60,
     "metadata": {},
     "output_type": "execute_result"
    }
   ],
   "source": [
    "np.isnan(g2_idx).sum()"
   ]
  },
  {
   "cell_type": "code",
   "execution_count": 61,
   "id": "97198211-5726-4525-8585-e9102affc731",
   "metadata": {},
   "outputs": [
    {
     "data": {
      "text/plain": [
       "0"
      ]
     },
     "execution_count": 61,
     "metadata": {},
     "output_type": "execute_result"
    }
   ],
   "source": [
    "any_nans.sum()"
   ]
  },
  {
   "cell_type": "code",
   "execution_count": 62,
   "id": "7b4e6c6b-a7e4-4822-be5d-195ada7d631d",
   "metadata": {},
   "outputs": [
    {
     "data": {
      "text/plain": [
       "0.0"
      ]
     },
     "execution_count": 62,
     "metadata": {},
     "output_type": "execute_result"
    }
   ],
   "source": [
    "np.isnan(g2_idx).sum()/len(g1_idx)"
   ]
  },
  {
   "cell_type": "code",
   "execution_count": 50,
   "id": "f9c8c463-ac9d-496c-9415-3fe068ef4c33",
   "metadata": {},
   "outputs": [],
   "source": [
    "g1_idx_n = group1.index[g1_idx[~any_nans].astype(int)]\n",
    "g2_idx_n = group2.index[g2_idx[~any_nans].astype(int)]"
   ]
  },
  {
   "cell_type": "code",
   "execution_count": 51,
   "id": "beb35c63-74a7-4004-a4fc-218865b51dd0",
   "metadata": {},
   "outputs": [
    {
     "data": {
      "text/plain": [
       "(31244,)"
      ]
     },
     "execution_count": 51,
     "metadata": {},
     "output_type": "execute_result"
    }
   ],
   "source": [
    "g1_idx_n.shape"
   ]
  },
  {
   "cell_type": "code",
   "execution_count": 52,
   "id": "17cfe05c-4b37-4006-8426-c8f8ebf6238c",
   "metadata": {},
   "outputs": [
    {
     "data": {
      "text/plain": [
       "(31244,)"
      ]
     },
     "execution_count": 52,
     "metadata": {},
     "output_type": "execute_result"
    }
   ],
   "source": [
    "g2_idx_n.shape"
   ]
  },
  {
   "cell_type": "code",
   "execution_count": 39,
   "id": "c61aabfa-cccc-457d-9821-ce12a746c767",
   "metadata": {},
   "outputs": [
    {
     "data": {
      "text/plain": [
       "array([10470,  1571,   332, ..., 14607, 18658, 25295])"
      ]
     },
     "execution_count": 39,
     "metadata": {},
     "output_type": "execute_result"
    }
   ],
   "source": [
    "g2_idx_n"
   ]
  },
  {
   "cell_type": "code",
   "execution_count": 53,
   "id": "53962726-ca8b-40cc-88ea-9e1238f09765",
   "metadata": {},
   "outputs": [
    {
     "data": {
      "text/plain": [
       "0.880137468661089"
      ]
     },
     "execution_count": 53,
     "metadata": {},
     "output_type": "execute_result"
    }
   ],
   "source": [
    "group1.index.isin(g1_idx_n).sum()/ len(group1.index)"
   ]
  },
  {
   "cell_type": "code",
   "execution_count": 58,
   "id": "dc01ba86-be8f-4240-8ae7-0c4c86b40e05",
   "metadata": {},
   "outputs": [
    {
     "data": {
      "text/plain": [
       "Index(['AAACCCAAGCCGCACT-1_7', 'AAACCCAAGCGAGAAA-1_6', 'AAACCCAAGCTCCATA-1_1',\n",
       "       'AAACCCAAGTAGCATA-1_1', 'AAACCCAAGTTAGAAC-1_4', 'AAACCCACAACCTAAC-1_4',\n",
       "       'AAACCCACAATTCTTC-1_7', 'AAACCCACACGCTGAC-1_5', 'AAACCCACAGACGGAT-1_7',\n",
       "       'AAACCCACATCGTGGC-1_7',\n",
       "       ...\n",
       "       'TTTGTTGGTTTCGTAG-1_5', 'TTTGTTGTCAAAGCCT-1_2', 'TTTGTTGTCAGCTTGA-1_5',\n",
       "       'TTTGTTGTCATCGCCT-1_1', 'TTTGTTGTCCACCCTA-1_7', 'TTTGTTGTCCACGGGT-1_4',\n",
       "       'TTTGTTGTCCTATTGT-1_1', 'TTTGTTGTCGTCAAAC-1_4', 'TTTGTTGTCTCTCTAA-1_6',\n",
       "       'TTTGTTGTCTTAGGAC-1_1'],\n",
       "      dtype='object', length=31244)"
      ]
     },
     "execution_count": 58,
     "metadata": {},
     "output_type": "execute_result"
    }
   ],
   "source": [
    "g1_idx_n.unique()"
   ]
  },
  {
   "cell_type": "code",
   "execution_count": 59,
   "id": "30af8646-b7da-4a14-8cb6-158dbe98d833",
   "metadata": {},
   "outputs": [
    {
     "data": {
      "text/plain": [
       "Index(['CAGCCTTTCACAACAC-7', 'TACTGCCAGAGCCTGA-3', 'GAACCGCTCCGTTTCG-1',\n",
       "       'TAGCCCTCAACGCACC-1', 'CGTAAACAGATGCGCA-4', 'CTACTTAAGGATGTAT-4',\n",
       "       'CATGCCTAGTCGTATC-7', 'GAGATTCGTCCGTCGA-4', 'TGGTCCTGTAAAGGCC-7',\n",
       "       'CAAGGCCGTCTGGGCT-7',\n",
       "       ...\n",
       "       'TACATGGCACGAACGA-7', 'TGGAAGGTCGCAAACT-2', 'TTAGCGATCTGGCGCA-1',\n",
       "       'CGTAAACGTCATAGAA-1', 'GCGCCAACAGGCACAA-6', 'GCACGGTTCGGGAAAC-1',\n",
       "       'TTTGTGTTCTTCATAC-7', 'CTCCCAAAGTAACTCC-3', 'TCCGACTTCCATTGTT-6',\n",
       "       'GCTCCTACATCCCTCA-1'],\n",
       "      dtype='object', length=24226)"
      ]
     },
     "execution_count": 59,
     "metadata": {},
     "output_type": "execute_result"
    }
   ],
   "source": [
    "g2_idx_n.unique()"
   ]
  },
  {
   "cell_type": "code",
   "execution_count": 64,
   "id": "efd10a88-9572-459e-85e9-297ba85a0743",
   "metadata": {},
   "outputs": [],
   "source": [
    "# Remove NaNs\n",
    "any_nans = (np.isnan(g1_idx) | np.isnan(g2_idx))\n",
    "g1_idx = g1_idx[~any_nans].astype(int)\n",
    "g2_idx = g2_idx[~any_nans].astype(int)\n",
    "matches = pd.DataFrame({\n",
    "    group1_name: group1.index[g1_idx],\n",
    "    group2_name: group2.index[g2_idx]\n",
    "})"
   ]
  },
  {
   "cell_type": "code",
   "execution_count": 65,
   "id": "a61de429-d342-4eab-93c2-8516ffa89767",
   "metadata": {},
   "outputs": [
    {
     "data": {
      "text/html": [
       "<div>\n",
       "<style scoped>\n",
       "    .dataframe tbody tr th:only-of-type {\n",
       "        vertical-align: middle;\n",
       "    }\n",
       "\n",
       "    .dataframe tbody tr th {\n",
       "        vertical-align: top;\n",
       "    }\n",
       "\n",
       "    .dataframe thead th {\n",
       "        text-align: right;\n",
       "    }\n",
       "</style>\n",
       "<table border=\"1\" class=\"dataframe\">\n",
       "  <thead>\n",
       "    <tr style=\"text-align: right;\">\n",
       "      <th></th>\n",
       "      <th>rna</th>\n",
       "      <th>atac</th>\n",
       "    </tr>\n",
       "  </thead>\n",
       "  <tbody>\n",
       "    <tr>\n",
       "      <th>0</th>\n",
       "      <td>AAACCCAAGCCGCACT-1_7</td>\n",
       "      <td>CAGCCTTTCACAACAC-7</td>\n",
       "    </tr>\n",
       "    <tr>\n",
       "      <th>1</th>\n",
       "      <td>AAACCCAAGCGAGAAA-1_6</td>\n",
       "      <td>TACTGCCAGAGCCTGA-3</td>\n",
       "    </tr>\n",
       "    <tr>\n",
       "      <th>2</th>\n",
       "      <td>AAACCCAAGCTCCATA-1_1</td>\n",
       "      <td>GAACCGCTCCGTTTCG-1</td>\n",
       "    </tr>\n",
       "    <tr>\n",
       "      <th>3</th>\n",
       "      <td>AAACCCAAGTAGCATA-1_1</td>\n",
       "      <td>TAGCCCTCAACGCACC-1</td>\n",
       "    </tr>\n",
       "    <tr>\n",
       "      <th>4</th>\n",
       "      <td>AAACCCAAGTTAGAAC-1_4</td>\n",
       "      <td>CGTAAACAGATGCGCA-4</td>\n",
       "    </tr>\n",
       "    <tr>\n",
       "      <th>...</th>\n",
       "      <td>...</td>\n",
       "      <td>...</td>\n",
       "    </tr>\n",
       "    <tr>\n",
       "      <th>31239</th>\n",
       "      <td>TTTGTTGTCCACGGGT-1_4</td>\n",
       "      <td>CTCCCAAAGTAACTCC-3</td>\n",
       "    </tr>\n",
       "    <tr>\n",
       "      <th>31240</th>\n",
       "      <td>TTTGTTGTCCTATTGT-1_1</td>\n",
       "      <td>CTGTTCGCAGTGCGAA-1</td>\n",
       "    </tr>\n",
       "    <tr>\n",
       "      <th>31241</th>\n",
       "      <td>TTTGTTGTCGTCAAAC-1_4</td>\n",
       "      <td>GCCTACTGTCTAAAGA-2</td>\n",
       "    </tr>\n",
       "    <tr>\n",
       "      <th>31242</th>\n",
       "      <td>TTTGTTGTCTCTCTAA-1_6</td>\n",
       "      <td>TCCGACTTCCATTGTT-6</td>\n",
       "    </tr>\n",
       "    <tr>\n",
       "      <th>31243</th>\n",
       "      <td>TTTGTTGTCTTAGGAC-1_1</td>\n",
       "      <td>GCTCCTACATCCCTCA-1</td>\n",
       "    </tr>\n",
       "  </tbody>\n",
       "</table>\n",
       "<p>31244 rows × 2 columns</p>\n",
       "</div>"
      ],
      "text/plain": [
       "                        rna                atac\n",
       "0      AAACCCAAGCCGCACT-1_7  CAGCCTTTCACAACAC-7\n",
       "1      AAACCCAAGCGAGAAA-1_6  TACTGCCAGAGCCTGA-3\n",
       "2      AAACCCAAGCTCCATA-1_1  GAACCGCTCCGTTTCG-1\n",
       "3      AAACCCAAGTAGCATA-1_1  TAGCCCTCAACGCACC-1\n",
       "4      AAACCCAAGTTAGAAC-1_4  CGTAAACAGATGCGCA-4\n",
       "...                     ...                 ...\n",
       "31239  TTTGTTGTCCACGGGT-1_4  CTCCCAAAGTAACTCC-3\n",
       "31240  TTTGTTGTCCTATTGT-1_1  CTGTTCGCAGTGCGAA-1\n",
       "31241  TTTGTTGTCGTCAAAC-1_4  GCCTACTGTCTAAAGA-2\n",
       "31242  TTTGTTGTCTCTCTAA-1_6  TCCGACTTCCATTGTT-6\n",
       "31243  TTTGTTGTCTTAGGAC-1_1  GCTCCTACATCCCTCA-1\n",
       "\n",
       "[31244 rows x 2 columns]"
      ]
     },
     "execution_count": 65,
     "metadata": {},
     "output_type": "execute_result"
    }
   ],
   "source": [
    "matches"
   ]
  },
  {
   "cell_type": "code",
   "execution_count": null,
   "id": "bcedac52-4ca0-4297-9fb9-757b5e8e4727",
   "metadata": {},
   "outputs": [],
   "source": []
  }
 ],
 "metadata": {
  "kernelspec": {
   "display_name": "Python 3 (ipykernel)",
   "language": "python",
   "name": "python3"
  },
  "language_info": {
   "codemirror_mode": {
    "name": "ipython",
    "version": 3
   },
   "file_extension": ".py",
   "mimetype": "text/x-python",
   "name": "python",
   "nbconvert_exporter": "python",
   "pygments_lexer": "ipython3",
   "version": "3.9.12"
  }
 },
 "nbformat": 4,
 "nbformat_minor": 5
}
